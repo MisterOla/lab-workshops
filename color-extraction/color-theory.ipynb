{
 "cells": [
  {
   "cell_type": "markdown",
   "metadata": {},
   "source": [
    "### Human Perceptions of Color\n",
    "\n",
    "When talking about color, it's important to keep in mind that people perceive color differently, and that the human visual system attempts to take surrounding context into account, which while helpful overall, sometimes leads to misperceptions or optical illusions. Lighting conditions, an object's proximity to other objects, the size of the object, and (for digital objects) a screen's resolution all play a role in how we color that object.\n",
    "\n",
    "Let's look at some examples.\n",
    "\n",
    "#### \"The Dress\"\n",
    "<img style='width: 300px' src='./images/dress.png'>\n",
    "<div style='text-align: center; margin: 10px 0; font-family: arial; font-size: 14px;'>Remember <a href='https://en.wikipedia.org/wiki/The_dress' target='_blank'>this debate</a> from 2015? Do you see a blue/black or white/gold dress?</div>\n",
    "\n",
    "#### Checkerboard Squares \n",
    "<img style='width: 400px' src='./images/checkerboard.png'>\n",
    "<div style='text-align: center; margin: 10px 0; font-family: arial; font-size: 14px;'>Edward Adelson's <a href='https://www.illusionsindex.org/ir/checkershadow' target='_blank'>checker shadow illusion</a> is a popular optical illusion that shows <br/> the effects of perceived shadows. Squares A and B are actually the same shade of gray!</div>\n",
    "\n",
    "#### Data Visualizations \n",
    "<img style='width: 400px' src='./images/scatter-1.png'>\n",
    "<div style='text-align: center; margin: 10px 0; font-family: arial; font-size: 14px;'>How many categories do you see?</div>\n",
    "\n",
    "<img style='width: 400px' src='./images/scatter-2.png'>\n",
    "<div style='text-align: center; margin: 10px 0; font-family: arial; font-size: 14px;'>How many categories do you see now, if we enlarge the circles?</div>\n",
    "\n",
    "<img style='width: 400px' src='./images/bar-3.png'>\n",
    "<div style='text-align: center; margin: 10px 0; font-family: arial; font-size: 14px;'>How many categories do you see if we switch to a bar chart?<br /> For more on how the size, shape, and proximity of marks affect <br/> our perception of their color, check out <a href='https://danielleszafir.com/colordiff_vis2017.pdf' target='_blank'>Danielle Albers Szafir's paper</a>.</div>\n",
    "\n",
    "#### Color Blindness\n",
    "<img style='width: 400px' src='./images/traffic-palette.png'>\n",
    "<div style='text-align: center; margin: 10px 0; font-family: arial; font-size: 14px;'>There are different types of color blindness you should consider when designing a <br/> data visualization—especially one that is color centric! For a great list of tools and <br/> tips, read <a href='https://thedesignteam.io/about-being-colorblind-bc0a58bcdfc2' target='_blank'>\"The Colorblind Designer\"</a> by Pablo Stanley and the Design Team.</div>\n",
    "\n",
    "### Computer Perceptions of Color\n",
    "\n",
    "As we'll discuss in more detail more shortly, there are different ways that a computer can \"see\" color. When embarking on a color extraction project, you'll want to think carefully about what colors or patterns you want captured. Will you combine different shades of blue into one aggregate blue bucket? Do you want to extract only the top (in terms of quantity) colors, even though that might miss important—to the human eye—pinpricks of color?   \n",
    "\n",
    "Additionally, you'll want to think about how you might highlight the choices you've made and the ensuing results to viewers. Here are two examples from <a href='https://dhlab.yale.edu/projects/blaketint/' target='_blank'>*BlakeTint*</a>, a collaboration between the Digital Humanities Lab and Yale graduate student Sarah Weston that visualizes Wiliam Blake's use of color over his career.\n",
    "\n",
    "<img style='width: 800px' src='./images/color-representation.png'>\n",
    "<div style='text-align: center; font-family: arial; font-size: 14px;'>Each column in the above image represents one plate in a Blake manuscript. One early conversation we had was how <br/> we wanted to represent the distribution of colors in each plate. A proportional view better illustrates the quantity of each <br/> color in Blake's plate, whereas an equally sized representation shows the full range of colors that are present.</div>\n",
    "\n",
    "<img style='width: 600px' src='./images/blake-image.png'>\n",
    "<div style='text-align: center; margin: 10px 0; font-family: arial; font-size: 14px;'>Another consideration we had to make was whether to subtract out <br/> the color of the paper before we asked the computer to generate the palettes.</div>"
   ]
  },
  {
   "cell_type": "code",
   "execution_count": null,
   "metadata": {},
   "outputs": [],
   "source": []
  },
  {
   "cell_type": "code",
   "execution_count": null,
   "metadata": {},
   "outputs": [],
   "source": []
  },
  {
   "cell_type": "code",
   "execution_count": null,
   "metadata": {},
   "outputs": [],
   "source": []
  }
 ],
 "metadata": {
  "kernelspec": {
   "display_name": "Python 3",
   "language": "python",
   "name": "python3"
  },
  "language_info": {
   "codemirror_mode": {
    "name": "ipython",
    "version": 3
   },
   "file_extension": ".py",
   "mimetype": "text/x-python",
   "name": "python",
   "nbconvert_exporter": "python",
   "pygments_lexer": "ipython3",
   "version": "3.6.12"
  }
 },
 "nbformat": 4,
 "nbformat_minor": 4
}
