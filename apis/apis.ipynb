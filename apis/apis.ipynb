{
 "cells": [
  {
   "cell_type": "markdown",
   "metadata": {},
   "source": [
    "# Getting Started with Application Programming Interfaces (APIs)\n",
    "\n",
    "APIs make it easy to collect clean data for text mining and machine learning projects. In this workshop, we'll learn how to collect data from APIs, query APIs to filter the data we fetch, and process the data that APIs return to extract information of interest. Let's get started!\n",
    "\n",
    "## What is an API?\n",
    "\n",
    "Every API is an interface to a database. When we interact with the API, we fetch data from the database. This series of relationships could be visualized as follows:\n",
    "\n",
    "<div style='text-align: center'><img src='./assets/api-schematic.png'><a href='https://medium.com/swlh/building-a-restful-api-with-rails-4b98dc76bf9c'>Image by Hector Polanco</a></div>\n",
    "\n",
    "As this illustration indicates, a user tells an API what kind of data they would like, then the API fetches that data from a database and sends it to the user. Let's see this in action in our first example below.\n",
    "\n",
    "## Solving Crossword Puzzles with the DataMuse API\n",
    "\n",
    "For our first example, let's consider the DataMuse API. This API allows us to interact with a database that contains information about words. Using the DataMuse API, we can find words with certain constraints. Suppose for example we are completing the puzzle below and wish to find words that would fit into <i>2 Down</i>:\n",
    "\n",
    "<div style='text-align: center'>\n",
    "    <img style='width:140px;margin: 20px auto;' src='./assets/crossword-puzzle.png'>\n",
    "</div>\n",
    "\n",
    "To solve for <i>2 Down</i>, we need some four-letter words that begin with S and end with D. We can get a list of such words by querying the following URL:\n",
    "\n",
    "<a target='_blank' href='https://api.datamuse.com/words?sp=s??d' style='text-align: center; margin: 10px auto; display: block'>\n",
    "https://api.datamuse.com/words?sp=s??d\n",
    "</a>\n",
    "\n",
    "This URL pattern and all other supported URL patterns one can use to query this database are listed in [the DataMuse API documentation](https://www.datamuse.com/api/):\n",
    "\n",
    "<table class='text'>\n",
    "  <thead>\n",
    "    <tr>\n",
    "      <th style='text-align: left' style='text-align: left'>In order to find...</th>\n",
    "      <th style='text-align: left'>Use <a href='https://api.datamuse.com'>https://api.datamuse.com</a> + ...</th>\n",
    "    </tr>\n",
    "  </thead>\n",
    "  <tbody>\n",
    "    <tr>\n",
    "      <td style='text-align: left'>words that start with <i>t</i>, end in <i>k</i>, and have two letters in between</td>\n",
    "      <td style='text-align: left'><a href=\"https://api.datamuse.com/words?sp=t??k\" class=\"apilink\">/words?sp=t??k</a></td>\n",
    "    </tr>\n",
    "    <tr>\n",
    "      <td style='text-align: left'>words that rhyme with <i>forgetful</i></td>\n",
    "      <td style='text-align: left'><a href=\"https://api.datamuse.com/words?rel_rhy=forgetful\" class=\"apilink\">/words?rel_rhy=forgetful</a></td>\n",
    "    </tr>\n",
    "    <tr>\n",
    "      <td style='text-align: left'>words that end with the letter <i>a</i> that are related to <i>spoon</i></td>\n",
    "      <td style='text-align: left'><a href=\"https://api.datamuse.com/words?ml=spoon&amp;sp=*a&amp;max=10\" class=\"apilink\">/words?sp=*a&amp;ml=spoon</a></td>\n",
    "    </tr>\n",
    "  </tbody>\n",
    "</table>\n",
    "\n",
    "Let's spend a minute analyzing these urls. As we can see, all of the queries we can perform begin with \"https://api.datamuse.com\". We are then instructed to add \"/words?\" followed by a pattern specific to the kind of data we wish to obtain:\n",
    "\n",
    "For four letter words that begin with <i>t</i> and end with <i>k</i>, use https://api.datamuse.com/words?sp=t??k  \n",
    "For words that rhyme with <i>forgetful</i>, use https://api.datamuse.com/words?rel_rhy=forgetful \n",
    "\n",
    "#### Examining API Data\n",
    "\n",
    "Let's now examine the data the API returns. If you visit <a href='https://api.datamuse.com/words?sp=s??d' target='_blank'>https://api.datamuse.com/words?sp=s??d</a> in a web browser, you will see something similar to the following:\n",
    "\n",
    "<a href='https://api.datamuse.com/words?sp=s??d' target='_blank'>\n",
    "    <img src='./assets/s--d.png'>\n",
    "</a>\n",
    "\n",
    "This output is an example of JSON, a popular data format often used by APIs. To make that JSON data easier to analyze, let's paste it into a \"JSON prettifier\", such as <a href='https://www.jsonformatter.io/' target='_blank'>https://www.jsonformatter.io/</a>. If you do so, you should see something similar to the following:\n",
    "  \n",
    "<a href='https://www.jsonformatter.io/' target='_blank' style='margin:10px 0; display: block'>\n",
    "    <img src='./assets/pretty-json.png'>\n",
    "</a>\n",
    "\n",
    "The data on the right is identical to the data on the left, except the data on the right is formatted (or \"prettified\") to be a little easier to read. Looking at that right hand column, we see a few types of data that we will need to understand in order to be able to work with this API.\n",
    "\n",
    "##### Square Braces = List\n",
    "\n",
    "First, we can see that the JSON data begins (and eventually ends) with \"<b>square braces</b>\": [ ]. In JSON, square braces denote a <b>list</b>. In the case of the DataMuse API, each item in the list contains information about a word that meets the constraints specified in the URL we requested.\n",
    "\n",
    "##### Squiggly Braces = Dictionary\n",
    "\n",
    "Next, we can see that each of the words in our list is wrapped with \"<b>squiggly braces</b>\": { }. In JSON, squiggly brace denote a <b>dictionary</b> (which are also sometimes referred to as an \"object\"). Dictionaries are in turn comprised of two kinds of things: <b>keys</b> (on the left of a colon) and <b>values</b> (on the right of a colon):\n",
    "\n",
    "<img src='assets/key-value.png' style='height:80px'>\n",
    "\n",
    "The dictionary above contains two key value pairs. The first has the key \"word\" and the value \"shed\". The second has the key \"score\" and the value 3010. We say that each of these values is \"assigned\" to the key it belongs to. So the value assigned to \"word\" is \"shed\", and the value assigned to \"score\" is 3010.\n",
    "\n",
    "##### Quotation Marks = String\n",
    "\n",
    "Examining the keys and the value \"shed\" above, we see that each is wrapped with \"<b>quotation marks</b>\": \" \". In JSON, quotation marks denote a <b>string</b> (a fancy word for \"text data\"). When viewing our JSON data using https://www.jsonformatter.io/, we can see that strings that are values inside a dictionary are colored red, but other text editors may not color code strings at all.\n",
    "\n",
    "##### Whole Numbers = Integers\n",
    "\n",
    "Finally, whole numbers such as the number 3010 (colored teal above) are called \"<b>integers</b>\" in JSON. Integers should not be confused with numbers that contain decimals, which are instead called \"<b>floats</b>\".\n",
    "\n",
    "---\n",
    "\n",
    "### Reviewing JSON Data\n",
    "\n",
    "To review what we've learned about JSON so far, see if you can answer the following questions.\n",
    "\n",
    "1. Consider the crossword puzzle we examined earlier. What URL would you use if you wanted to find words that could fit in <i>4 Down</i> below?\n",
    "\n",
    "<div style='text-align: center'>\n",
    "    <img style='width:140px;margin: 20px auto;' src='./assets/crossword-puzzle.png'>\n",
    "</div>\n",
    "\n",
    "<details style='margin: 10px 25px'>\n",
    "  <summary>Solution</summary>\n",
    "  <a href='https://api.datamuse.com/words?sp=?o?' target='_blank'>https://api.datamuse.com/words?sp=?o?</a>\n",
    "</details>\n",
    "\n",
    "2. Consider the dictionary below. How many key value pairs are there in this dictionary? What are they?\n",
    "\n",
    "```\n",
    "{\n",
    "    \"word\": \"send\",\n",
    "    \"score\": 1718\n",
    "}\n",
    "```\n",
    "\n",
    "<details style='margin: 10px 25px'>\n",
    "  <summary>Solution</summary>\n",
    "  There are 2 key value pairs. The first has the key \"word\" and the value \"send\". The second has the key \"score\" and the value 1718.\n",
    "</details>\n",
    "\n",
    "3. What are the data types of the elements in the following dictionary:\n",
    "\n",
    "```\n",
    "{\n",
    "    \"name\": \"Allen Ginsberg\",\n",
    "    \"age\": \"28\"\n",
    "}\n",
    "```\n",
    "\n",
    "<details style='margin: 10px 25px'>\n",
    "  <summary>Solution</summary>\n",
    "  The keys in this dictionary are strings. The value assigned to the \"name\" key is also a string, while the value assigned to the \"age\" key is an integer.\n",
    "</details>\n",
    "\n",
    "## Fetching JSON Data with Python\n",
    "\n",
    "Now that we've explored JSON data by manually requesting data from an API, let's automate that process with Python. To do so, we can use the `requests` library:"
   ]
  },
  {
   "cell_type": "code",
   "execution_count": 1,
   "metadata": {},
   "outputs": [],
   "source": [
    "import requests\n",
    "\n",
    "url = 'https://api.datamuse.com/words?sp=t??k'\n",
    "\n",
    "data = requests.get(url).json()"
   ]
  },
  {
   "cell_type": "code",
   "execution_count": 2,
   "metadata": {},
   "outputs": [
    {
     "data": {
      "text/plain": [
       "[{'score': 3314, 'word': 'talk'},\n",
       " {'score': 1942, 'word': 'tick'},\n",
       " {'score': 1939, 'word': 'tank'},\n",
       " {'score': 1772, 'word': 'tack'},\n",
       " {'score': 1640, 'word': 'task'},\n",
       " {'score': 1511, 'word': 'trek'},\n",
       " {'score': 1233, 'word': 'tork'},\n",
       " {'score': 1130, 'word': 'tuck'},\n",
       " {'score': 563, 'word': 'tusk'},\n",
       " {'score': 505, 'word': 'took'},\n",
       " {'score': 483, 'word': 'turk'},\n",
       " {'score': 480, 'word': 'teak'},\n",
       " {'score': 479, 'word': 'tock'},\n",
       " {'score': 464, 'word': 'tisk'},\n",
       " {'score': 340, 'word': 'tonk'},\n",
       " {'score': 331, 'word': 'tink'},\n",
       " {'score': 137, 'word': 'trak'},\n",
       " {'score': 128, 'word': 'teck'},\n",
       " {'score': 115, 'word': 'tunk'},\n",
       " {'score': 87, 'word': 'teek'},\n",
       " {'score': 84, 'word': 'tark'},\n",
       " {'score': 71, 'word': 'truk'},\n",
       " {'score': 60, 'word': 'tosk'},\n",
       " {'score': 46, 'word': 'taak'},\n",
       " {'score': 38, 'word': 'tawk'},\n",
       " {'score': 38, 'word': 'teuk'},\n",
       " {'score': 35, 'word': 'thak'},\n",
       " {'score': 30, 'word': 'tulk'},\n",
       " {'score': 20, 'word': 'terk'},\n",
       " {'score': 20, 'word': 'toak'},\n",
       " {'score': 18, 'word': 'taek'},\n",
       " {'score': 14, 'word': 'tysk'},\n",
       " {'score': 12, 'word': 'takk'},\n",
       " {'score': 11, 'word': 'thik'},\n",
       " {'score': 11, 'word': 'tolk'},\n",
       " {'score': 9, 'word': 'twok'},\n",
       " {'score': 5, 'word': 'tnpk'},\n",
       " {'score': 4, 'word': 'tsik'},\n",
       " {'score': 3, 'word': 'tsak'},\n",
       " {'score': 2, 'word': 'tesk'},\n",
       " {'score': 2, 'word': 'trok'},\n",
       " {'score': 2, 'word': 'ttkk'},\n",
       " {'score': 1, 'word': 'tmuk'}]"
      ]
     },
     "execution_count": 2,
     "metadata": {},
     "output_type": "execute_result"
    }
   ],
   "source": [
    "data"
   ]
  },
  {
   "cell_type": "markdown",
   "metadata": {},
   "source": [
    "As we can see, the data we get using the `requests` library is identical to the data we got when requesting the same url through our web browser. Let's now practice parsing the JSON data from DataMuse with Python.\n",
    "\n",
    "You may know that we can \"iterate through\" (or examine one-by-one) the dictionaries in the list above using a \"for\" loop:"
   ]
  },
  {
   "cell_type": "code",
   "execution_count": 3,
   "metadata": {},
   "outputs": [
    {
     "name": "stdout",
     "output_type": "stream",
     "text": [
      "{'score': 3314, 'word': 'talk'}\n",
      "{'score': 1942, 'word': 'tick'}\n",
      "{'score': 1939, 'word': 'tank'}\n",
      "{'score': 1772, 'word': 'tack'}\n",
      "{'score': 1640, 'word': 'task'}\n",
      "{'score': 1511, 'word': 'trek'}\n",
      "{'score': 1233, 'word': 'tork'}\n",
      "{'score': 1130, 'word': 'tuck'}\n",
      "{'score': 563, 'word': 'tusk'}\n",
      "{'score': 505, 'word': 'took'}\n",
      "{'score': 483, 'word': 'turk'}\n",
      "{'score': 480, 'word': 'teak'}\n",
      "{'score': 479, 'word': 'tock'}\n",
      "{'score': 464, 'word': 'tisk'}\n",
      "{'score': 340, 'word': 'tonk'}\n",
      "{'score': 331, 'word': 'tink'}\n",
      "{'score': 137, 'word': 'trak'}\n",
      "{'score': 128, 'word': 'teck'}\n",
      "{'score': 115, 'word': 'tunk'}\n",
      "{'score': 87, 'word': 'teek'}\n",
      "{'score': 84, 'word': 'tark'}\n",
      "{'score': 71, 'word': 'truk'}\n",
      "{'score': 60, 'word': 'tosk'}\n",
      "{'score': 46, 'word': 'taak'}\n",
      "{'score': 38, 'word': 'tawk'}\n",
      "{'score': 38, 'word': 'teuk'}\n",
      "{'score': 35, 'word': 'thak'}\n",
      "{'score': 30, 'word': 'tulk'}\n",
      "{'score': 20, 'word': 'terk'}\n",
      "{'score': 20, 'word': 'toak'}\n",
      "{'score': 18, 'word': 'taek'}\n",
      "{'score': 14, 'word': 'tysk'}\n",
      "{'score': 12, 'word': 'takk'}\n",
      "{'score': 11, 'word': 'thik'}\n",
      "{'score': 11, 'word': 'tolk'}\n",
      "{'score': 9, 'word': 'twok'}\n",
      "{'score': 5, 'word': 'tnpk'}\n",
      "{'score': 4, 'word': 'tsik'}\n",
      "{'score': 3, 'word': 'tsak'}\n",
      "{'score': 2, 'word': 'tesk'}\n",
      "{'score': 2, 'word': 'trok'}\n",
      "{'score': 2, 'word': 'ttkk'}\n",
      "{'score': 1, 'word': 'tmuk'}\n"
     ]
    }
   ],
   "source": [
    "for i in data:\n",
    "  print(i)"
   ]
  },
  {
   "cell_type": "markdown",
   "metadata": {},
   "source": [
    "This for loop lets us examine each item in `data` one by one. In the first pass through the for loop above, the value of `i` is the first dictionary in `data`:"
   ]
  },
  {
   "cell_type": "code",
   "execution_count": 4,
   "metadata": {},
   "outputs": [],
   "source": [
    "i = {'score': 3314, 'word': 'talk'}"
   ]
  },
  {
   "cell_type": "markdown",
   "metadata": {},
   "source": [
    "We can access the value assigned to the \"word\" key in that dictionary with the following syntax:"
   ]
  },
  {
   "cell_type": "code",
   "execution_count": 5,
   "metadata": {},
   "outputs": [
    {
     "name": "stdout",
     "output_type": "stream",
     "text": [
      "talk\n"
     ]
    }
   ],
   "source": [
    "word = i['word']\n",
    "\n",
    "print(word)"
   ]
  },
  {
   "cell_type": "markdown",
   "metadata": {},
   "source": [
    "### Reviewing JSON Parsing\n",
    "\n",
    "1. Using the skills discussed above, see if you can print the `name` addresses of each item in the following list:"
   ]
  },
  {
   "cell_type": "code",
   "execution_count": 6,
   "metadata": {},
   "outputs": [],
   "source": [
    "data = [\n",
    "  {\n",
    "    \"name\": \"id labore ex et quam laborum\",\n",
    "    \"email\": \"Eliseo@gardner.biz\"\n",
    "  },\n",
    "  {\n",
    "    \"name\": \"quo vero reiciendis velit similique earum\",\n",
    "    \"email\": \"Jayne_Kuhic@sydney.com\"\n",
    "  },\n",
    "  {\n",
    "    \"name\": \"odio adipisci rerum aut animi\",\n",
    "    \"email\": \"Nikita@garfield.biz\"\n",
    "  },\n",
    "  {\n",
    "    \"name\": \"alias odio sit\",\n",
    "    \"email\": \"Lew@alysha.tv\"\n",
    "  }\n",
    "]"
   ]
  },
  {
   "cell_type": "code",
   "execution_count": 7,
   "metadata": {},
   "outputs": [],
   "source": [
    "# type your answer here"
   ]
  },
  {
   "cell_type": "markdown",
   "metadata": {},
   "source": [
    "<details style='margin: 10px 25px'>\n",
    "  <summary>Solution</summary>\n",
    "  <code style='display: block'>\n",
    "  for i in data:\n",
    "    print(i['name'])\n",
    "  </code>\n",
    "</details>"
   ]
  },
  {
   "cell_type": "markdown",
   "metadata": {},
   "source": [
    "2. Next, see if you can print the `title` of each item in the following list:"
   ]
  },
  {
   "cell_type": "code",
   "execution_count": 8,
   "metadata": {},
   "outputs": [],
   "source": [
    "items = [\n",
    "  {\n",
    "    \"id\": 1,\n",
    "    \"title\": \"quidem molestiae enim\"\n",
    "  },\n",
    "  {\n",
    "    \"id\": 2,\n",
    "    \"title\": \"sunt qui excepturi placeat culpa\"\n",
    "  },\n",
    "  {\n",
    "    \"id\": 3,\n",
    "    \"title\": \"omnis laborum odio\"\n",
    "  },\n",
    "  {\n",
    "    \"id\": 4,\n",
    "    \"title\": \"non esse culpa molestiae omnis sed optio\"\n",
    "  },\n",
    "  {\n",
    "    \"id\": 5,\n",
    "    \"title\": \"eaque aut omnis a\"\n",
    "  }\n",
    "]"
   ]
  },
  {
   "cell_type": "code",
   "execution_count": 9,
   "metadata": {},
   "outputs": [],
   "source": [
    "# type your answer here"
   ]
  },
  {
   "cell_type": "markdown",
   "metadata": {},
   "source": [
    "<details style='margin: 10px 25px'>\n",
    "  <summary>Solution</summary>\n",
    "  <code style='display: block'>\n",
    "  for i in items:\n",
    "    print(i['title'])\n",
    "  </code>\n",
    "</details>"
   ]
  },
  {
   "cell_type": "markdown",
   "metadata": {},
   "source": [
    "3. Bonus Round! See if you can print each company name in the list below. Here's a hint--you will need to access the value assigned to the `company` key, then you'll need to access the value assigned to the `name` key..."
   ]
  },
  {
   "cell_type": "code",
   "execution_count": 10,
   "metadata": {},
   "outputs": [],
   "source": [
    "data = [\n",
    "  {\n",
    "    \"name\": \"Leanne Graham\",\n",
    "    \"company\": {\n",
    "      \"name\": \"Google\",\n",
    "      \"catchPhrase\": \"Multi-layered client-server neural-net\",\n",
    "    }\n",
    "  },\n",
    "  {\n",
    "    \"name\": \"Ervin Howell\",\n",
    "    \"company\": {\n",
    "      \"name\": \"Twitter\",\n",
    "      \"catchPhrase\": \"Proactive didactic contingency\",\n",
    "    }\n",
    "  },\n",
    "  {\n",
    "    \"name\": \"Clementine Bauch\",\n",
    "    \"company\": {\n",
    "      \"name\": \"Facebook\",\n",
    "      \"catchPhrase\": \"Face to face bifurcated interface\",\n",
    "    }\n",
    "  }\n",
    "]"
   ]
  },
  {
   "cell_type": "code",
   "execution_count": 11,
   "metadata": {},
   "outputs": [],
   "source": [
    "# type your answer here"
   ]
  },
  {
   "cell_type": "markdown",
   "metadata": {},
   "source": [
    "<details style='margin: 10px 25px'>\n",
    "  <summary>Solution</summary>\n",
    "  <code style='display: block'>\n",
    "  for i in items:\n",
    "    print(i['company']['name'])\n",
    "  </code>\n",
    "</details>"
   ]
  },
  {
   "cell_type": "markdown",
   "metadata": {},
   "source": [
    "# Handling Missing Data\n",
    "\n",
    "Often times when we use an API, the data that is sent back to us is inconsistent. For example, we might find that some records are missing a key/value pair that other records contain, as in the following example:"
   ]
  },
  {
   "cell_type": "code",
   "execution_count": 12,
   "metadata": {},
   "outputs": [],
   "source": [
    "data = [\n",
    "  {\n",
    "    \"name\": \"Thomas Boyle\", \n",
    "    \"profession\": \"chemist\"\n",
    "  },\n",
    "  {\n",
    "    \"name\": \"Margaret Cavendish\", \n",
    "    \"profession\": \"novelist\"\n",
    "  },\n",
    "  {\n",
    "    \"name\": \"Athanasius Kirchir\"\n",
    "  }\n",
    "]"
   ]
  },
  {
   "cell_type": "markdown",
   "metadata": {},
   "source": [
    "If one attempts to access the value assigned to each \"profession\" key in the list above, Python will throw a KeyError error:"
   ]
  },
  {
   "cell_type": "code",
   "execution_count": 13,
   "metadata": {},
   "outputs": [
    {
     "name": "stdout",
     "output_type": "stream",
     "text": [
      "chemist\n",
      "novelist\n"
     ]
    },
    {
     "ename": "KeyError",
     "evalue": "'profession'",
     "output_type": "error",
     "traceback": [
      "\u001b[0;31m---------------------------------------------------------------------------\u001b[0m",
      "\u001b[0;31mKeyError\u001b[0m                                  Traceback (most recent call last)",
      "\u001b[0;32m<ipython-input-13-799e7ac08379>\u001b[0m in \u001b[0;36m<module>\u001b[0;34m\u001b[0m\n\u001b[1;32m      1\u001b[0m \u001b[0;32mfor\u001b[0m \u001b[0mi\u001b[0m \u001b[0;32min\u001b[0m \u001b[0mdata\u001b[0m\u001b[0;34m:\u001b[0m\u001b[0;34m\u001b[0m\u001b[0m\n\u001b[0;32m----> 2\u001b[0;31m   \u001b[0mprint\u001b[0m\u001b[0;34m(\u001b[0m\u001b[0mi\u001b[0m\u001b[0;34m[\u001b[0m\u001b[0;34m'profession'\u001b[0m\u001b[0;34m]\u001b[0m\u001b[0;34m)\u001b[0m\u001b[0;34m\u001b[0m\u001b[0m\n\u001b[0m",
      "\u001b[0;31mKeyError\u001b[0m: 'profession'"
     ]
    }
   ],
   "source": [
    "for i in data:\n",
    "  print(i['profession'])"
   ]
  },
  {
   "cell_type": "markdown",
   "metadata": {},
   "source": [
    "The most general way to solve this problem in Python is to use `try` and `except` syntax. These two commands work together to say: \"attempt to run the code inside the `try` block, and if that attempt fails, run the code inside the `except` block\". Let's see an example of this below:"
   ]
  },
  {
   "cell_type": "code",
   "execution_count": 14,
   "metadata": {},
   "outputs": [
    {
     "name": "stdout",
     "output_type": "stream",
     "text": [
      "chemist\n",
      "novelist\n"
     ]
    }
   ],
   "source": [
    "for i in data:\n",
    "  \n",
    "  # try to run the following lines on each item in data\n",
    "  try:\n",
    "    \n",
    "    # display the profession of the current item in data\n",
    "    print(i['profession'])\n",
    "    \n",
    "  # if any of those lines throw an error, run the following for the given line\n",
    "  except:\n",
    "    \n",
    "    # if the current item in data could not be processed, go to the next item in the list of data\n",
    "    continue"
   ]
  },
  {
   "cell_type": "markdown",
   "metadata": {},
   "source": [
    "The `try` and `except` syntax above will allow you to handle any error that occurs in Python gracefully. In the case of dictionaries, however, we can use the `.get` method to handle `KeyError` events:"
   ]
  },
  {
   "cell_type": "code",
   "execution_count": 15,
   "metadata": {},
   "outputs": [
    {
     "name": "stdout",
     "output_type": "stream",
     "text": [
      "undefined\n"
     ]
    }
   ],
   "source": [
    "data = {\"name\": \"Athanasius Kirchir\"}\n",
    "\n",
    "# try to get the value assigned to the \"profession\" key\n",
    "# if that key doesn't exist, return \"undefined\"\n",
    "value = data.get(\"profession\", \"undefined\")\n",
    "\n",
    "print(value)"
   ]
  },
  {
   "cell_type": "markdown",
   "metadata": {},
   "source": [
    "### Reviewing Missing Data\n",
    "\n",
    "See if you can update the code below to return \"Unknown\" if there is no specified author for the given datum:"
   ]
  },
  {
   "cell_type": "code",
   "execution_count": null,
   "metadata": {},
   "outputs": [],
   "source": [
    "data = [\n",
    "  {\n",
    "    \"author\": \"Sir Arthur Ignatius Conan Doyle\", \n",
    "    \"title\": \"The Mystery of Cloomber\"\n",
    "  },\n",
    "  {\n",
    "    \"author\": \"Dame Agatha Christie\", \n",
    "    \"title\": \"The Mousetrap\"\n",
    "  },\n",
    "  {\n",
    "    \"title\": \"Frankenstein\"\n",
    "  }\n",
    "]\n",
    "\n",
    "for i in data:\n",
    "  print(i['author'])"
   ]
  },
  {
   "cell_type": "code",
   "execution_count": null,
   "metadata": {},
   "outputs": [],
   "source": [
    "# type your answer here"
   ]
  },
  {
   "cell_type": "markdown",
   "metadata": {},
   "source": [
    "<details style='margin: 10px 25px'>\n",
    "  <summary>Solution</summary>\n",
    "  <code style='display: block'>\n",
    "  for i in data:\n",
    "    print(i.get('author', 'Unknown'))\n",
    "  </code>\n",
    "</details>"
   ]
  },
  {
   "cell_type": "markdown",
   "metadata": {},
   "source": [
    "### Fetching Bulk Data from the Chronicling America API\n",
    "\n",
    "Now that we've covered some of the basics of JSON parsing in Python, let's move on to the Chronicling America API, which has more interesting data in a more challenging format.\n",
    "\n",
    "To get started with the Chronicling America API, let's take a look at the [API documentation](https://chroniclingamerica.loc.gov/about/api/#search). There we see that we can place a basic query for fulltext data that includes the word \"horse\" with the following URL: \n",
    "\n",
    "<a target='_blank' href='https://chroniclingamerica.loc.gov/search/pages/results/?andtext=horse&format=json' style='text-align: center; margin: 10px auto; display: block'>https://chroniclingamerica.loc.gov/search/pages/results/?andtext=horse&format=json\n",
    "</a>\n",
    "\n",
    "The JSON data sent back is more complex than the JSON we've seen so far:"
   ]
  },
  {
   "cell_type": "code",
   "execution_count": null,
   "metadata": {},
   "outputs": [],
   "source": [
    "{\n",
    "  \"totalItems\": 6253723,\n",
    "  \"endIndex\": 20,\n",
    "  \"startIndex\": 1,\n",
    "  \"itemsPerPage\": 20,\n",
    "  \"items\": [\n",
    "    {\n",
    "      \"sequence\": 10,\n",
    "      \"county\": [\n",
    "        \"Cook County\"\n",
    "      ],\n",
    "      \"edition\": None,\n",
    "      \"frequency\": \"Daily (except Sunday and holidays)\",\n",
    "      \"id\": \"/lccn/sn83045487/1913-04-07/ed-1/seq-10/\",\n",
    "      \"subject\": [\n",
    "        \"Chicago (Ill.)--Newspapers.\",\n",
    "        \"Illinois--Chicago.--fast--(OCoLC)fst01204048\"\n",
    "      ],\n",
    "      \"city\": [\n",
    "        \"Chicago\"\n",
    "      ],\n",
    "      \"date\": \"19130407\",\n",
    "      \"title\": \"The day book. [volume]\",\n",
    "      \"end_year\": 1917,\n",
    "      \"note\": [\n",
    "        \"\\\"An adless daily newspaper.\\\"\",\n",
    "        \"Archived issues are available in digital format as part of the Library of Congress Chronicling America online collection.\",\n",
    "        \"Available on microfilm;\",\n",
    "        \"Description based on: Nov. 1, 1911.\",\n",
    "        \"Issue for <Nov. 24, 1911> lacks vol., no., and chronological designation.\",\n",
    "        \"Issue for Nov. 4, 1911 erroneously designated as Oct. 4, 1911.\",\n",
    "        \"Issue for v. 3, no. 290 (Sept. 7, 1914) erroneously designated as v. 3, no. 300 (Sept. 7, 1914). The error in numbering continues.\",\n",
    "        \"Issue for v. 5, no. 214 (June 7, 1916) erroneously designated as v. 5, no. 214 (June 6, 1916).\",\n",
    "        \"Issue for v. 5, no. 7 (Oct. 5, 1915) erroneously designated as v. 5, no. 7 (Sept. 5, 1915).\",\n",
    "        \"Issues for <May 7-17, 1915> called also \\\"Moving Picture Edition.\\\"\",\n",
    "        \"Issues have no page numbering.\",\n",
    "        \"Saturdays have Noon and Final editions, Dec. 28, 1912-June 21, 1913; Saturdays have Noon and Last editions, June 28, 1913-<Dec. 13, 1913>; began issuing daily Noon and Last editions, Dec. 20, 1913-July 6, 1917.\",\n",
    "        \"Vol. 5, no. 36 (Nov. 6, 1915) issue called also \\\"Garment Workers' Special Edition.\\\"\",\n",
    "        \"Volume numbering begins with Nov. 20, 1911 issue.\"\n",
    "      ],\n",
    "      \"state\": [\n",
    "        \"Illinois\"\n",
    "      ],\n",
    "      \"section_label\": \"\",\n",
    "      \"type\": \"page\",\n",
    "      \"place_of_publication\": \"Chicago, Ill.\",\n",
    "      \"start_year\": 1911,\n",
    "      \"edition_label\": \"\",\n",
    "      \"publisher\": \"N.D. Cochran\",\n",
    "      \"language\": [\n",
    "        \"English\"\n",
    "      ],\n",
    "      \"alt_title\": [],\n",
    "      \"lccn\": \"sn83045487\",\n",
    "      \"country\": \"Illinois\",\n",
    "      \"ocr_eng\": \"MAKING A BALKY HORSE MOVE \\\" \\\"\\nWant to knftw how to start a balky\\nhorse?\\nThat sounds like\\\"\\\" a foolish ques\\ntion and it's been echoed thVough all\\nthe ages since horses came into gen\\neral -.use. Everybody who owns one\\nwould like to know how to start a\\nbalky horse. Here's a way that has\\nnever failed': Take an ordinary bam\\nboo fish pole long enough to reach\\nthe head of the horse from the car\\nriage seat. Attach a round wooden\\nbolt crossways to the end' of the rod\\n. A MEMORY TEST\\nand fasten copper rivet heads in .each\\nend of the bolt.\\nThen attach the two wires of an\\nelectric battery, pne to each rivet\\nhead and let them run along the pole\\nto the handle where they will be fas\\ntened to ordinary binding posts. Run\\nwires from your battery, under the\\nSarriage seat, to the handle of the\\npole. When the horse balks turn on\\nyour currenl. and touch the horse be\\nhind the ears with the rivet heads.\\nHe'll -move -no matter how deter--mined\\nhe has been not to do so.\\n\\\"Oh, yes, old bellow, I. still remem\\nber that $5\\\"I borrowed two years ago.\\nDid you think 4'd forgotten.it?\\\"-'\\n\\\"Not fromthe way' you?d succeed-.\\nedmrddgmgn&4e5Ince.\\\"\\nSHORT HEAVYWEIGHT\\ngootT\\ngoshM i\",\n",
    "      \"batch\": \"iune_foxtrot_ver01\",\n",
    "      \"title_normal\": \"day book.\",\n",
    "      \"url\": \"https://chroniclingamerica.loc.gov/lccn/sn83045487/1913-04-07/ed-1/seq-10.json\",\n",
    "      \"place\": [\n",
    "        \"Illinois--Cook County--Chicago\"\n",
    "      ],\n",
    "      \"page\": \"\"\n",
    "    }\n",
    "  ]\n",
    "}\n",
    "\n",
    "pass"
   ]
  },
  {
   "cell_type": "markdown",
   "metadata": {},
   "source": [
    "We can see this response has five top-level keys:\n",
    "```\n",
    "  \"totalItems\": 6253723,  # indicates the total number of hits for our search\n",
    "  \"endIndex\": 20,         # indicates the number of the last search result displayed\n",
    "  \"startIndex\": 1,        # indicates the number of the first search result displayed\n",
    "  \"itemsPerPage\": 20,     # indicates the number of results displayed\n",
    "  \"items\": []             # contains the data of interest\n",
    "```\n",
    "\n",
    "Likewise, each item in the `items` list has several keys. Let's focus on two of them:\n",
    "\n",
    "```\n",
    "  \"date\"                  # the publication date of this item in YYYYMMDD format\n",
    "  \"title\"                 # the title of the publication\n",
    "  \"ocr_eng\"               # the full text OCR text for this item\n",
    "```\n",
    "\n",
    "Given this information, let's obtain a list of items from our first page of results:"
   ]
  },
  {
   "cell_type": "code",
   "execution_count": 17,
   "metadata": {},
   "outputs": [],
   "source": [
    "import requests\n",
    "\n",
    "# specify the url to query\n",
    "url = 'https://chroniclingamerica.loc.gov/search/pages/results/?format=json&andtext=horse'\n",
    "\n",
    "# retrieve text records that contain a given word\n",
    "data = requests.get(url).json()\n",
    "\n",
    "# access the list of items in the returned JSON data\n",
    "items = data['items']"
   ]
  },
  {
   "cell_type": "markdown",
   "metadata": {},
   "source": [
    "If you examine the url above, you can see `?andtext=horse`. This is the syntax used by the Chronicling America API to allow users to find texts that contain a given word or phrase. Let's run the query again, but this time using a search word of personal interest to you:"
   ]
  },
  {
   "cell_type": "code",
   "execution_count": 18,
   "metadata": {},
   "outputs": [
    {
     "name": "stdout",
     "output_type": "stream",
     "text": [
      "The Oglala light. [volume]\n",
      "The Oglala light. [volume]\n",
      "The Oglala light. [volume]\n",
      "The Oglala light. [volume]\n",
      "The Oglala light. [volume]\n",
      "Evening star. [volume]\n",
      "Daily independent. [volume]\n",
      "The San Francisco call. [volume]\n",
      "The day book. [volume]\n",
      "The day book. [volume]\n",
      "The San Francisco call. [volume]\n",
      "The day book. [volume]\n",
      "New-York tribune. [volume]\n",
      "The San Francisco call. [volume]\n",
      "New-York tribune. [volume]\n",
      "Evening star. [volume]\n",
      "The Lake Charles echo. [volume]\n",
      "The Hope pioneer. [volume]\n",
      "The Hope pioneer. [volume]\n",
      "The Daily Ardmoreite. [volume]\n"
     ]
    }
   ],
   "source": [
    "# specify your search term below\n",
    "search_term = 'horse'\n",
    "\n",
    "# specify the url to query\n",
    "url = 'https://chroniclingamerica.loc.gov/search/pages/results/?format=json&andtext=' + search_term\n",
    "\n",
    "# retrieve text records that contain a given word\n",
    "data = requests.get(url).json()\n",
    "\n",
    "# access the list of items in the returned JSON data\n",
    "items = data['items']\n",
    "\n",
    "# display the title of each item\n",
    "for i in items:\n",
    "  print(i['title'])"
   ]
  },
  {
   "cell_type": "markdown",
   "metadata": {},
   "source": [
    "# Working with Paginated API Responses"
   ]
  },
  {
   "cell_type": "markdown",
   "metadata": {},
   "source": [
    "Great! We've successfully fetched 20 responses from the server. However, if we run `print(data['totalItems'])`, we'll see that there are many more hits for our query:"
   ]
  },
  {
   "cell_type": "code",
   "execution_count": 19,
   "metadata": {},
   "outputs": [
    {
     "name": "stdout",
     "output_type": "stream",
     "text": [
      "6276773\n"
     ]
    }
   ],
   "source": [
    "print(data['totalItems'])"
   ]
  },
  {
   "cell_type": "markdown",
   "metadata": {},
   "source": [
    "To access the other hits for our query, we must request each \"page\" of results individually. A page of API results is just like a page of results displayed in a web browser--each page contains a fixed number of results. In the case of a Google search, each page contains 10 search results. In the case of the Chronicling America API, each page contains 20 results. Each API is different, but the concept of pagination is the same.\n",
    "\n",
    "To paginate through the pages of results for our query, the [Chronicling America documentation](https://chroniclingamerica.loc.gov/about/api/#search) tells us, we can add a query parameter `page=n` to our url, where `n` is the index position of the page we want to fetch. For example, we can request:\n",
    "\n",
    "```\n",
    "# url for the first page for our search term\n",
    "https://chroniclingamerica.loc.gov/search/pages/results/?format=json&andtext=horse&page=1\n",
    "\n",
    "# url for the second page for our search term\n",
    "https://chroniclingamerica.loc.gov/search/pages/results/?format=json&andtext=horse&page=2\n",
    "```"
   ]
  },
  {
   "cell_type": "markdown",
   "metadata": {},
   "source": [
    "Let's paginate through responses with Python. To do so, we can make use of the `range` function, which returns a list of integers between x and y counting by z:"
   ]
  },
  {
   "cell_type": "code",
   "execution_count": 20,
   "metadata": {},
   "outputs": [
    {
     "data": {
      "text/plain": [
       "[10, 12, 14, 16, 18]"
      ]
     },
     "execution_count": 20,
     "metadata": {},
     "output_type": "execute_result"
    }
   ],
   "source": [
    "# create a list of integers between 10 and 20 counting by 2\n",
    "list(range(10, 20, 2))"
   ]
  },
  {
   "cell_type": "markdown",
   "metadata": {},
   "source": [
    "Notice that the first argument passed to `range()`&mdash;the start value&mdash;is inclusive, but the second argument&mdash;the end value&mdash;is exclusive!\n",
    "\n",
    "Let's use the range function to create a list of pages we wish to fetch:"
   ]
  },
  {
   "cell_type": "code",
   "execution_count": 21,
   "metadata": {},
   "outputs": [],
   "source": [
    "# create a list of results\n",
    "results = []\n",
    "\n",
    "# fetch each page number\n",
    "for i in range(1, 100, 1):\n",
    "\n",
    "  # specify the url to query\n",
    "  url = 'https://chroniclingamerica.loc.gov/search/pages/results/?format=json&andtext=horse&page=' + str(i)\n",
    "  \n",
    "  # fetch this page of results\n",
    "  data = requests.get(url).json()\n",
    "\n",
    "  # add this page of results to our list of results\n",
    "  results.append(data)"
   ]
  },
  {
   "cell_type": "markdown",
   "metadata": {},
   "source": [
    "Now `results` will be a list of dictionaries we can parse to fetch multiple pages of data!"
   ]
  },
  {
   "cell_type": "markdown",
   "metadata": {},
   "source": [
    "### Reviewing Pagination"
   ]
  },
  {
   "cell_type": "markdown",
   "metadata": {},
   "source": [
    "Given what we covered above, see if you can fetch pages 100 through 200 (both inclusive) of results that include the word \"horses\". Beware of \"off-by-one\" problems!"
   ]
  },
  {
   "cell_type": "code",
   "execution_count": null,
   "metadata": {},
   "outputs": [],
   "source": [
    "# type your answer here"
   ]
  },
  {
   "cell_type": "markdown",
   "metadata": {},
   "source": [
    "<details style='margin: 10px 25px'>\n",
    "  <summary>Solution</summary>\n",
    "  <code style='display: block'>\n",
    "  results = []\n",
    "  \n",
    "  for i in range(100, 201, 1):\n",
    "    url = 'https://chroniclingamerica.loc.gov/search/pages/results/?format=json&andtext=horse&page=' + str(i)\n",
    "    results.append(requests.get(url).json())\n",
    "    \n",
    "  </code>\n",
    "</details>"
   ]
  },
  {
   "cell_type": "markdown",
   "metadata": {},
   "source": [
    "# Saving API Responses"
   ]
  },
  {
   "cell_type": "markdown",
   "metadata": {},
   "source": [
    "Finally, let's revisit the pattern for saving data to disk using Python in order to process each item and save its text content to a file. First, let's identify the folder where we'll save the files, and create that folder if it doesn't exist:"
   ]
  },
  {
   "cell_type": "code",
   "execution_count": 22,
   "metadata": {},
   "outputs": [],
   "source": [
    "import os\n",
    "\n",
    "# specify the filename where output files will be written\n",
    "output_directory = 'data'\n",
    "\n",
    "# create the output directory if it doesn't exist\n",
    "if not os.path.exists(output_directory):\n",
    "  os.makedirs(output_directory)"
   ]
  },
  {
   "cell_type": "code",
   "execution_count": 23,
   "metadata": {},
   "outputs": [],
   "source": [
    "# iterate over each result\n",
    "for i in results:\n",
    "  \n",
    "  # iterate over each item in this result\n",
    "  for j in i['items']:\n",
    "  \n",
    "    # store a unique filename for this item\n",
    "    output_filename = j['id'].strip('/').replace('/', '-')\n",
    "\n",
    "    # specify the full path to the output file\n",
    "    output_path = os.path.join(output_directory, output_filename)\n",
    "\n",
    "    # create a file handler named \"out\" that can write content to disk\n",
    "    with open(output_path, 'w') as out:\n",
    "\n",
    "      # write the ocr content in the current item to disk\n",
    "      out.write(j.get('ocr_eng', ''))"
   ]
  },
  {
   "cell_type": "markdown",
   "metadata": {},
   "source": [
    "# Next Steps\n",
    "\n",
    "To practice the skills you learned above, try to collect 100 pages of text data from the Chronicling America API. As you do so, see if you can find a query that returns results related to an area of intellectual interest to you. After you have retrieved those pages of data, try to save each record from each page to your system."
   ]
  }
 ],
 "metadata": {
  "kernelspec": {
   "display_name": "Python 3",
   "language": "python",
   "name": "python3"
  },
  "language_info": {
   "codemirror_mode": {
    "name": "ipython",
    "version": 3
   },
   "file_extension": ".py",
   "mimetype": "text/x-python",
   "name": "python",
   "nbconvert_exporter": "python",
   "pygments_lexer": "ipython3",
   "version": "3.5.3"
  }
 },
 "nbformat": 4,
 "nbformat_minor": 2
}
