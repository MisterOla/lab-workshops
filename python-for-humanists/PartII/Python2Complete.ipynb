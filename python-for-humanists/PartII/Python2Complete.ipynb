{
 "cells": [
  {
   "cell_type": "markdown",
   "metadata": {},
   "source": [
    "# Python for Humanist (Part II)\n",
    "\n",
    "\n",
    "This workshop is licensed under a [Creative Commons Attribution 4.0 International License](https://creativecommons.org/licenses/by/4.0/). ![CC 4.0 License](CC4.png) \n",
    "[See Part I](https://yale.box.com/v/python-dhlab)"
   ]
  },
  {
   "cell_type": "markdown",
   "metadata": {},
   "source": [
    "## Loops\n",
    "\n",
    "### A *for loop* executes commands once for each value in a collection.\n",
    "\n",
    "*   Doing calculations on the values in a list one by one\n",
    "    is as painful as working with `pressure_001`, `pressure_002`, etc.\n",
    "*   A *for loop* tells Python to execute some statements once for each value in a list,\n",
    "    a character string,\n",
    "    or some other collection.\n",
    "*   \"for each thing in this group, do these operations\""
   ]
  },
  {
   "cell_type": "code",
   "execution_count": 1,
   "metadata": {},
   "outputs": [
    {
     "name": "stdout",
     "output_type": "stream",
     "text": [
      "2\n",
      "3\n",
      "5\n"
     ]
    }
   ],
   "source": [
    "for number in [2, 3, 5]:\n",
    "    print(number)"
   ]
  },
  {
   "cell_type": "markdown",
   "metadata": {},
   "source": [
    "*   This `for` loop is equivalent to:"
   ]
  },
  {
   "cell_type": "code",
   "execution_count": 2,
   "metadata": {},
   "outputs": [
    {
     "name": "stdout",
     "output_type": "stream",
     "text": [
      "2\n",
      "3\n",
      "5\n"
     ]
    }
   ],
   "source": [
    "print(2)\n",
    "print(3)\n",
    "print(5)"
   ]
  },
  {
   "cell_type": "markdown",
   "metadata": {},
   "source": [
    "### The first line of the `for` loop must end with a colon, and the body must be indented.\n",
    "\n",
    "*   The colon at the end of the first line signals the start of a *block* of statements.\n",
    "*   Python uses indentation rather than `{}` or `begin`/`end` to show *nesting*.\n",
    "    *   Any consistent indentation is legal, but almost everyone uses four spaces."
   ]
  },
  {
   "cell_type": "code",
   "execution_count": 3,
   "metadata": {},
   "outputs": [
    {
     "ename": "IndentationError",
     "evalue": "expected an indented block (<ipython-input-3-3a0b55365d6d>, line 2)",
     "output_type": "error",
     "traceback": [
      "\u001b[0;36m  File \u001b[0;32m\"<ipython-input-3-3a0b55365d6d>\"\u001b[0;36m, line \u001b[0;32m2\u001b[0m\n\u001b[0;31m    print(number)\u001b[0m\n\u001b[0m        ^\u001b[0m\n\u001b[0;31mIndentationError\u001b[0m\u001b[0;31m:\u001b[0m expected an indented block\n"
     ]
    }
   ],
   "source": [
    "for number in [2, 3, 5]:\n",
    "print(number)"
   ]
  },
  {
   "cell_type": "markdown",
   "metadata": {},
   "source": [
    "*   Indentation is always meaningful in Python."
   ]
  },
  {
   "cell_type": "code",
   "execution_count": null,
   "metadata": {},
   "outputs": [],
   "source": [
    "firstName=\"Jon\"\n",
    "  lastName=\"Smith\""
   ]
  },
  {
   "cell_type": "markdown",
   "metadata": {},
   "source": [
    "*   This error can be fixed by removing the extra spaces\n",
    "    at the beginning of the second line.\n",
    "\n",
    "### A `for` loop is made up of a collection, a loop variable, and a body."
   ]
  },
  {
   "cell_type": "code",
   "execution_count": null,
   "metadata": {},
   "outputs": [],
   "source": [
    "for number in [2, 3, 5]:\n",
    "    print(number)"
   ]
  },
  {
   "cell_type": "markdown",
   "metadata": {},
   "source": [
    "*   The collection, `[2, 3, 5]`, is what the loop is being run on.\n",
    "*   The body, `print(number)`, specifies what to do for each value in the collection.\n",
    "*   The loop variable, `number`, is what changes for each *iteration* of the loop.\n",
    "    *   The \"current thing\".\n",
    "\n",
    "### Loop variables can be called anything.\n",
    "\n",
    "*   As with all variables, loop variables are:\n",
    "    *   Created on demand.\n",
    "    *   Meaningless: their names can be anything at all."
   ]
  },
  {
   "cell_type": "code",
   "execution_count": null,
   "metadata": {
    "scrolled": true
   },
   "outputs": [],
   "source": [
    "for kitten in [2, 3, 5]:\n",
    "    print(kitten)"
   ]
  },
  {
   "cell_type": "markdown",
   "metadata": {},
   "source": [
    "### The body of a loop can contain many statements.\n",
    "\n",
    "*   But no loop should be more than a few lines long.\n",
    "*   Hard for human beings to keep larger chunks of code in mind."
   ]
  },
  {
   "cell_type": "markdown",
   "metadata": {},
   "source": [
    "## Exercise 1\n",
    "\n",
    "* Each of the three cells below contains some code that is incomplete\n",
    "    * The comment above the code will tell you what the desired output is\n",
    "* Fill in the blanks and run the cell\n",
    "    * Keep trying until you get the desired output"
   ]
  },
  {
   "cell_type": "code",
   "execution_count": 4,
   "metadata": {},
   "outputs": [
    {
     "name": "stdout",
     "output_type": "stream",
     "text": [
      "12\n"
     ]
    }
   ],
   "source": [
    "# Total length of the strings in the list: [\"red\", \"green\", \"blue\"] => 12\n",
    "# Desired output: 12\n",
    "total = 0\n",
    "for word in [\"red\", \"green\", \"blue\"]:\n",
    "    total = total + len(word)\n",
    "print(total)"
   ]
  },
  {
   "cell_type": "code",
   "execution_count": 5,
   "metadata": {},
   "outputs": [
    {
     "name": "stdout",
     "output_type": "stream",
     "text": [
      "[3, 5, 4]\n"
     ]
    }
   ],
   "source": [
    "# List of word lengths: [\"red\", \"green\", \"blue\"] => [3, 5, 4]\n",
    "# Desired output: [3, 5, 4]\n",
    "lengths = []\n",
    "for word in [\"red\", \"green\", \"blue\"]:\n",
    "    lengths.append(len(word))\n",
    "print(lengths)"
   ]
  },
  {
   "cell_type": "code",
   "execution_count": 6,
   "metadata": {},
   "outputs": [
    {
     "name": "stdout",
     "output_type": "stream",
     "text": [
      "redgreenblue\n"
     ]
    }
   ],
   "source": [
    "# Concatenate all words: [\"red\", \"green\", \"blue\"] => \"redgreenblue\"\n",
    "# Desired output: \"redgreenblue\"\n",
    "words = [\"red\", \"green\", \"blue\"]\n",
    "result = ''\n",
    "for word in words:\n",
    "    result = result + word\n",
    "print(result)"
   ]
  },
  {
   "cell_type": "code",
   "execution_count": 7,
   "metadata": {},
   "outputs": [
    {
     "name": "stdout",
     "output_type": "stream",
     "text": [
      "RGB\n"
     ]
    }
   ],
   "source": [
    "# Create acronym: [\"red\", \"green\", \"blue\"] => \"RGB\"\n",
    "# write the whole thing\n",
    "words = [\"red\", \"green\", \"blue\"]\n",
    "acronym = ''\n",
    "for word in words:\n",
    "    acronym = acronym + word[0].capitalize()\n",
    "print(acronym)"
   ]
  },
  {
   "cell_type": "markdown",
   "metadata": {},
   "source": [
    "## Conditionals\n",
    "\n",
    "### Use `if` statements to control whether or not a block of code is executed.\n",
    "\n",
    "*   An `if` statement (more properly called a *conditional* statement)\n",
    "    controls whether some block of code is executed or not.\n",
    "*   Structure is similar to a `for` statement:\n",
    "    *   First line opens with `if` and ends with a colon\n",
    "    *   Body containing one or more statements is indented (usually by 4 spaces)"
   ]
  },
  {
   "cell_type": "code",
   "execution_count": 8,
   "metadata": {},
   "outputs": [
    {
     "name": "stdout",
     "output_type": "stream",
     "text": [
      "3.54 is large\n"
     ]
    }
   ],
   "source": [
    "mass = 3.54\n",
    "if mass > 3.0:\n",
    "    print(mass, 'is large')\n",
    "\n",
    "mass = 2.07\n",
    "if mass > 3.0:\n",
    "    print (mass, 'is large')"
   ]
  },
  {
   "cell_type": "markdown",
   "metadata": {},
   "source": [
    "### Conditionals are often used inside loops.\n",
    "\n",
    "*   Not much point using a conditional when we know the value (as above).\n",
    "*   But useful when we have a collection to process."
   ]
  },
  {
   "cell_type": "code",
   "execution_count": 9,
   "metadata": {},
   "outputs": [
    {
     "name": "stdout",
     "output_type": "stream",
     "text": [
      "3.54 is large\n",
      "9.22 is large\n"
     ]
    }
   ],
   "source": [
    "masses = [3.54, 2.07, 9.22, 1.86, 1.71]\n",
    "for m in masses:\n",
    "    if m > 3.0:\n",
    "        print(m, 'is large')"
   ]
  },
  {
   "cell_type": "markdown",
   "metadata": {},
   "source": [
    "### Use `else` to execute a block of code when an `if` condition is *not* true.\n",
    "\n",
    "*   `else` can be used following an `if`.\n",
    "*   Allows us to specify an alternative to execute when the `if` *branch* isn't taken."
   ]
  },
  {
   "cell_type": "code",
   "execution_count": 10,
   "metadata": {},
   "outputs": [
    {
     "name": "stdout",
     "output_type": "stream",
     "text": [
      "3.54 is large\n",
      "2.07 is small\n",
      "9.22 is large\n",
      "1.86 is small\n",
      "1.71 is small\n"
     ]
    }
   ],
   "source": [
    "masses = [3.54, 2.07, 9.22, 1.86, 1.71]\n",
    "for m in masses:\n",
    "    if m > 3.0:\n",
    "        print(m, 'is large')\n",
    "    else:\n",
    "        print(m, 'is small')"
   ]
  },
  {
   "cell_type": "markdown",
   "metadata": {},
   "source": [
    "### Use `elif` to specify additional tests.\n",
    "\n",
    "*   May want to provide several alternative choices, each with its own test.\n",
    "*   Use `elif` (short for \"else if\") and a condition to specify these.\n",
    "*   Always associated with an `if`.\n",
    "*   Must come before the `else` (which is the \"catch all\")."
   ]
  },
  {
   "cell_type": "code",
   "execution_count": 11,
   "metadata": {},
   "outputs": [
    {
     "name": "stdout",
     "output_type": "stream",
     "text": [
      "3.54 is large\n",
      "2.07 is small\n",
      "9.22 is HUGE\n",
      "1.86 is small\n",
      "1.71 is small\n"
     ]
    }
   ],
   "source": [
    "masses = [3.54, 2.07, 9.22, 1.86, 1.71]\n",
    "for m in masses:\n",
    "    if m > 9.0:\n",
    "        print(m, 'is HUGE')\n",
    "    elif m > 3.0:\n",
    "        print(m, 'is large')\n",
    "    else:\n",
    "        print(m, 'is small')"
   ]
  },
  {
   "cell_type": "markdown",
   "metadata": {},
   "source": [
    "### Conditions are tested once, in order.\n",
    "\n",
    "*   Python steps through the branches of the conditional in order, testing each in turn.\n",
    "*   So ordering matters."
   ]
  },
  {
   "cell_type": "code",
   "execution_count": 12,
   "metadata": {},
   "outputs": [
    {
     "name": "stdout",
     "output_type": "stream",
     "text": [
      "grade is C\n"
     ]
    }
   ],
   "source": [
    "grade = 85\n",
    "if grade >= 70:\n",
    "    print('grade is C')\n",
    "elif grade >= 80:\n",
    "    print('grade is B')\n",
    "elif grade >= 90:\n",
    "    print('grade is A')"
   ]
  },
  {
   "cell_type": "markdown",
   "metadata": {},
   "source": [
    "![Coin Sorting Machine](coinSort.gif)\n",
    "\n",
    "*   Does *not* automatically go back and re-evaluate if values change."
   ]
  },
  {
   "cell_type": "code",
   "execution_count": 13,
   "metadata": {},
   "outputs": [
    {
     "name": "stdout",
     "output_type": "stream",
     "text": [
      "adjusting velocity\n"
     ]
    }
   ],
   "source": [
    "velocity = 10.0\n",
    "if velocity > 20.0:\n",
    "    print('moving too fast')\n",
    "else:\n",
    "    print('adjusting velocity')\n",
    "    velocity = 50.0"
   ]
  },
  {
   "cell_type": "markdown",
   "metadata": {},
   "source": [
    "## Working with Data\n",
    "\n",
    "### Use `with open()` to open any single file\n",
    "\n",
    "*   `with open()` can open files to read in data or to write out data to a file\n",
    "*   If writing and the file doesn't exist, python will create it for you.\n",
    "\n",
    "#### Writing a .csv file"
   ]
  },
  {
   "cell_type": "code",
   "execution_count": 14,
   "metadata": {},
   "outputs": [],
   "source": [
    "import csv\n",
    "\n",
    "primes = [2,3,5]\n",
    "\n",
    "with open('output.csv','w', newline='') as outFile:\n",
    "    for prime in primes:\n",
    "        squared = prime ** 2\n",
    "        cubed = prime ** 3\n",
    "        row = [prime,squared,cubed]\n",
    "        csv.writer(outFile).writerow(row)"
   ]
  },
  {
   "cell_type": "markdown",
   "metadata": {},
   "source": [
    "#### Reading a .csv file"
   ]
  },
  {
   "cell_type": "code",
   "execution_count": 15,
   "metadata": {},
   "outputs": [
    {
     "name": "stdout",
     "output_type": "stream",
     "text": [
      "['2', '4', '8']\n",
      "['3', '9', '27']\n",
      "['5', '25', '125']\n"
     ]
    }
   ],
   "source": [
    "with open('output.csv','r') as dataFile:\n",
    "    data = csv.reader(dataFile)\n",
    "    for row in data:\n",
    "        print(row)"
   ]
  },
  {
   "cell_type": "markdown",
   "metadata": {},
   "source": [
    "## pandas\n",
    "### Use the Pandas library to open tabular data.\n",
    "\n",
    "*   Pandas is a widely-used Python library for statistics, particularly on tabular data.\n",
    "*   Borrows many features from R's dataframes.\n",
    "    *   A 2-dimenstional table whose columns have names\n",
    "        and potentially have different data types.\n",
    "*   Load it with `import pandas`.\n",
    "*   Read a Comma Separate Values (CSV) data file with `pandas.read_csv`.\n",
    "    *   Argument is the name of the file to be read.\n",
    "    *   Assign result to a variable to store the data that was read."
   ]
  },
  {
   "cell_type": "code",
   "execution_count": 16,
   "metadata": {
    "scrolled": true
   },
   "outputs": [
    {
     "name": "stdout",
     "output_type": "stream",
     "text": [
      "       country  gdpPercap_1952  gdpPercap_1957  gdpPercap_1962  \\\n",
      "0    Australia     10039.59564     10949.64959     12217.22686   \n",
      "1  New Zealand     10556.57566     12247.39532     13175.67800   \n",
      "\n",
      "   gdpPercap_1967  gdpPercap_1972  gdpPercap_1977  gdpPercap_1982  \\\n",
      "0     14526.12465     16788.62948     18334.19751     19477.00928   \n",
      "1     14463.91893     16046.03728     16233.71770     17632.41040   \n",
      "\n",
      "   gdpPercap_1987  gdpPercap_1992  gdpPercap_1997  gdpPercap_2002  \\\n",
      "0     21888.88903     23424.76683     26997.93657     30687.75473   \n",
      "1     19007.19129     18363.32494     21050.41377     23189.80135   \n",
      "\n",
      "   gdpPercap_2007  \n",
      "0     34435.36744  \n",
      "1     25185.00911  \n"
     ]
    }
   ],
   "source": [
    "import pandas as pd\n",
    "\n",
    "data = pd.read_csv('data/gapminder_gdp_oceania.csv')\n",
    "print(data)"
   ]
  },
  {
   "cell_type": "markdown",
   "metadata": {},
   "source": [
    "*   The columns in a dataframe are the observed variables, and the rows are the observations.\n",
    "*   Pandas uses backslash `\\` to show wrapped lines when output is too wide to fit the screen.\n",
    "\n",
    "### Use `index_col` to specify that a column's values should be used as row headings.\n",
    "\n",
    "*   Row headings are numbers (0 and 1 in this case).\n",
    "*   Really want to index by country.\n",
    "*   Pass the name of the column to `read_csv` as its `index_col` parameter to do this."
   ]
  },
  {
   "cell_type": "code",
   "execution_count": 17,
   "metadata": {},
   "outputs": [
    {
     "name": "stdout",
     "output_type": "stream",
     "text": [
      "             gdpPercap_1952  gdpPercap_1957  gdpPercap_1962  gdpPercap_1967  \\\n",
      "country                                                                       \n",
      "Australia       10039.59564     10949.64959     12217.22686     14526.12465   \n",
      "New Zealand     10556.57566     12247.39532     13175.67800     14463.91893   \n",
      "\n",
      "             gdpPercap_1972  gdpPercap_1977  gdpPercap_1982  gdpPercap_1987  \\\n",
      "country                                                                       \n",
      "Australia       16788.62948     18334.19751     19477.00928     21888.88903   \n",
      "New Zealand     16046.03728     16233.71770     17632.41040     19007.19129   \n",
      "\n",
      "             gdpPercap_1992  gdpPercap_1997  gdpPercap_2002  gdpPercap_2007  \n",
      "country                                                                      \n",
      "Australia       23424.76683     26997.93657     30687.75473     34435.36744  \n",
      "New Zealand     18363.32494     21050.41377     23189.80135     25185.00911  \n"
     ]
    }
   ],
   "source": [
    "data = pd.read_csv('data/gapminder_gdp_oceania.csv', index_col='country')\n",
    "print(data)"
   ]
  },
  {
   "cell_type": "markdown",
   "metadata": {},
   "source": [
    "### Use `DataFrame.info` to find out more about a dataframe."
   ]
  },
  {
   "cell_type": "code",
   "execution_count": 18,
   "metadata": {},
   "outputs": [
    {
     "name": "stdout",
     "output_type": "stream",
     "text": [
      "<class 'pandas.core.frame.DataFrame'>\n",
      "Index: 2 entries, Australia to New Zealand\n",
      "Data columns (total 12 columns):\n",
      "gdpPercap_1952    2 non-null float64\n",
      "gdpPercap_1957    2 non-null float64\n",
      "gdpPercap_1962    2 non-null float64\n",
      "gdpPercap_1967    2 non-null float64\n",
      "gdpPercap_1972    2 non-null float64\n",
      "gdpPercap_1977    2 non-null float64\n",
      "gdpPercap_1982    2 non-null float64\n",
      "gdpPercap_1987    2 non-null float64\n",
      "gdpPercap_1992    2 non-null float64\n",
      "gdpPercap_1997    2 non-null float64\n",
      "gdpPercap_2002    2 non-null float64\n",
      "gdpPercap_2007    2 non-null float64\n",
      "dtypes: float64(12)\n",
      "memory usage: 208.0+ bytes\n"
     ]
    }
   ],
   "source": [
    "data.info()"
   ]
  },
  {
   "cell_type": "markdown",
   "metadata": {},
   "source": [
    "*   This is a `DataFrame`\n",
    "*   Two rows named `'Australia'` and `'New Zealand'`\n",
    "*   Twelve columns, each of which has two actual 64-bit floating point values.\n",
    "    *   We will talk later about null values, which are used to represent missing observations.\n",
    "*   Uses 208 bytes of memory.\n",
    "\n",
    "### The `DataFrame.columns` variable stores information about the dataframe's columns.\n",
    "\n",
    "*   Note that this is data, *not* a method.\n",
    "    *   Like `math.pi`.\n",
    "    *   So do not use `()` to try to call it.\n",
    "*   Called a *member variable*, or just *member*."
   ]
  },
  {
   "cell_type": "code",
   "execution_count": 19,
   "metadata": {},
   "outputs": [
    {
     "name": "stdout",
     "output_type": "stream",
     "text": [
      "Index(['gdpPercap_1952', 'gdpPercap_1957', 'gdpPercap_1962', 'gdpPercap_1967',\n",
      "       'gdpPercap_1972', 'gdpPercap_1977', 'gdpPercap_1982', 'gdpPercap_1987',\n",
      "       'gdpPercap_1992', 'gdpPercap_1997', 'gdpPercap_2002', 'gdpPercap_2007'],\n",
      "      dtype='object')\n"
     ]
    }
   ],
   "source": [
    "print(data.columns)"
   ]
  },
  {
   "cell_type": "markdown",
   "metadata": {},
   "source": [
    "### Use `DataFrame.T` to transpose a dataframe.\n",
    "\n",
    "*   Sometimes want to treat columns as rows and vice versa.\n",
    "*   Transpose (written `.T`) doesn't copy the data, just changes the program's view of it.\n",
    "*   Like `columns`, it is a member variable."
   ]
  },
  {
   "cell_type": "code",
   "execution_count": 20,
   "metadata": {},
   "outputs": [
    {
     "name": "stdout",
     "output_type": "stream",
     "text": [
      "country           Australia  New Zealand\n",
      "gdpPercap_1952  10039.59564  10556.57566\n",
      "gdpPercap_1957  10949.64959  12247.39532\n",
      "gdpPercap_1962  12217.22686  13175.67800\n",
      "gdpPercap_1967  14526.12465  14463.91893\n",
      "gdpPercap_1972  16788.62948  16046.03728\n",
      "gdpPercap_1977  18334.19751  16233.71770\n",
      "gdpPercap_1982  19477.00928  17632.41040\n",
      "gdpPercap_1987  21888.88903  19007.19129\n",
      "gdpPercap_1992  23424.76683  18363.32494\n",
      "gdpPercap_1997  26997.93657  21050.41377\n",
      "gdpPercap_2002  30687.75473  23189.80135\n",
      "gdpPercap_2007  34435.36744  25185.00911\n"
     ]
    }
   ],
   "source": [
    "print(data.T)"
   ]
  },
  {
   "cell_type": "markdown",
   "metadata": {},
   "source": [
    "### Use `DataFrame.describe` to get summary statistics about data.\n",
    "\n",
    "DataFrame.describe() gets the summary statistics of only the columns that have numerical data. \n",
    "All other columns are ignored, unless you use the argument `include='all'`.\n",
    "*   Not particularly useful with just two records,\n",
    "    but very helpful when there are thousands."
   ]
  },
  {
   "cell_type": "code",
   "execution_count": 21,
   "metadata": {},
   "outputs": [
    {
     "name": "stdout",
     "output_type": "stream",
     "text": [
      "       gdpPercap_1952  gdpPercap_1957  gdpPercap_1962  gdpPercap_1967  \\\n",
      "count        2.000000        2.000000        2.000000        2.000000   \n",
      "mean     10298.085650    11598.522455    12696.452430    14495.021790   \n",
      "std        365.560078      917.644806      677.727301       43.986086   \n",
      "min      10039.595640    10949.649590    12217.226860    14463.918930   \n",
      "25%      10168.840645    11274.086022    12456.839645    14479.470360   \n",
      "50%      10298.085650    11598.522455    12696.452430    14495.021790   \n",
      "75%      10427.330655    11922.958888    12936.065215    14510.573220   \n",
      "max      10556.575660    12247.395320    13175.678000    14526.124650   \n",
      "\n",
      "       gdpPercap_1972  gdpPercap_1977  gdpPercap_1982  gdpPercap_1987  \\\n",
      "count         2.00000        2.000000        2.000000        2.000000   \n",
      "mean      16417.33338    17283.957605    18554.709840    20448.040160   \n",
      "std         525.09198     1485.263517     1304.328377     2037.668013   \n",
      "min       16046.03728    16233.717700    17632.410400    19007.191290   \n",
      "25%       16231.68533    16758.837652    18093.560120    19727.615725   \n",
      "50%       16417.33338    17283.957605    18554.709840    20448.040160   \n",
      "75%       16602.98143    17809.077557    19015.859560    21168.464595   \n",
      "max       16788.62948    18334.197510    19477.009280    21888.889030   \n",
      "\n",
      "       gdpPercap_1992  gdpPercap_1997  gdpPercap_2002  gdpPercap_2007  \n",
      "count        2.000000        2.000000        2.000000        2.000000  \n",
      "mean     20894.045885    24024.175170    26938.778040    29810.188275  \n",
      "std       3578.979883     4205.533703     5301.853680     6540.991104  \n",
      "min      18363.324940    21050.413770    23189.801350    25185.009110  \n",
      "25%      19628.685413    22537.294470    25064.289695    27497.598692  \n",
      "50%      20894.045885    24024.175170    26938.778040    29810.188275  \n",
      "75%      22159.406358    25511.055870    28813.266385    32122.777857  \n",
      "max      23424.766830    26997.936570    30687.754730    34435.367440  \n"
     ]
    }
   ],
   "source": [
    "print(data.describe())"
   ]
  },
  {
   "cell_type": "markdown",
   "metadata": {},
   "source": [
    "## Writing Data\n",
    "\n",
    "* As well as the `read_csv` function for reading data from a file, Pandas provides a `to_csv` function to write dataframes to files.\n",
    "* You can use `help` to get information on how to use `to_csv`.\n",
    "\n",
    "\n",
    "In order to write the DataFrame `americas` to a file called `processed.csv`, execute the following command:\n",
    "americas.to_csv('processed.csv')"
   ]
  },
  {
   "cell_type": "code",
   "execution_count": 22,
   "metadata": {},
   "outputs": [],
   "source": [
    "data.T.to_csv('oceania_transposed.csv')"
   ]
  },
  {
   "cell_type": "markdown",
   "metadata": {},
   "source": [
    "### Note about Pandas DataFrames/Series\n",
    "\n",
    "A [DataFrame][pandas-dataframe] is a collection of [Series][pandas-series];\n",
    "The DataFrame is the way Pandas represents a table, and Series is the data-structure\n",
    "Pandas use to represent a column.\n",
    "\n",
    "Pandas is built on top of the [Numpy][numpy] library, which in practice means that\n",
    "most of the methods defined for Numpy Arrays apply to Pandas Series/DataFrames.\n",
    "\n",
    "What makes Pandas so attractive is the powerful interface to access individual records\n",
    "of the table, proper handling of missing values, and relational-databases operations\n",
    "between DataFrames.\n",
    "\n",
    "## Selecting values\n",
    "\n",
    "To access a value at the position `[i,j]` of a DataFrame, we have two options, depending on\n",
    "what is the meaning of `i` in use.\n",
    "Remember that a DataFrame provides a *index* as a way to identify the rows of the table;\n",
    "a row, then, has a *position* inside the table as well as a *label*, which\n",
    "uniquely identifies its *entry* in the DataFrame.\n",
    "\n",
    "### Use `DataFrame.iloc[..., ...]` to select values by their (entry) position\n",
    "\n",
    "*   Can specify location by numerical index analogously to 2D version of character selection in strings."
   ]
  },
  {
   "cell_type": "code",
   "execution_count": 23,
   "metadata": {},
   "outputs": [
    {
     "name": "stdout",
     "output_type": "stream",
     "text": [
      "1601.056136\n"
     ]
    }
   ],
   "source": [
    "data = pd.read_csv('data/gapminder_gdp_europe.csv', index_col='country')\n",
    "print(data.iloc[0, 0])"
   ]
  },
  {
   "cell_type": "markdown",
   "metadata": {},
   "source": [
    "### Use `DataFrame.loc[..., ...]` to select values by their (entry) label.\n",
    "\n",
    "*   Can specify location by row name analogously to 2D version of dictionary keys."
   ]
  },
  {
   "cell_type": "code",
   "execution_count": 24,
   "metadata": {},
   "outputs": [
    {
     "name": "stdout",
     "output_type": "stream",
     "text": [
      "1601.056136\n"
     ]
    }
   ],
   "source": [
    "data = pd.read_csv('data/gapminder_gdp_europe.csv', index_col='country')\n",
    "print(data.loc[\"Albania\", \"gdpPercap_1952\"])"
   ]
  },
  {
   "cell_type": "markdown",
   "metadata": {},
   "source": [
    "### Result of slicing can be used in further operations.\n",
    "\n",
    "*   Usually don't just print a slice.\n",
    "*   All the statistical operators that work on entire dataframes\n",
    "    work the same way on slices.\n",
    "*   E.g., calculate max of a slice."
   ]
  },
  {
   "cell_type": "code",
   "execution_count": 25,
   "metadata": {},
   "outputs": [
    {
     "name": "stdout",
     "output_type": "stream",
     "text": [
      "gdpPercap_1952    1601.056136\n",
      "gdpPercap_1957    1942.284244\n",
      "gdpPercap_1962    2312.888958\n",
      "gdpPercap_1967    2760.196931\n",
      "gdpPercap_1972    3313.422188\n",
      "gdpPercap_1977    3533.003910\n",
      "gdpPercap_1982    3630.880722\n",
      "gdpPercap_1987    3738.932735\n",
      "gdpPercap_1992    2497.437901\n",
      "gdpPercap_1997    3193.054604\n",
      "gdpPercap_2002    4604.211737\n",
      "gdpPercap_2007    5937.029526\n",
      "Name: Albania, dtype: float64\n",
      "count      12.000000\n",
      "mean     3255.366633\n",
      "std      1192.351513\n",
      "min      1601.056136\n",
      "25%      2451.300665\n",
      "50%      3253.238396\n",
      "75%      3657.893725\n",
      "max      5937.029526\n",
      "Name: Albania, dtype: float64\n"
     ]
    }
   ],
   "source": [
    "albania = data.loc[\"Albania\"]\n",
    "print(albania)\n",
    "print(albania.describe())"
   ]
  },
  {
   "cell_type": "code",
   "execution_count": 26,
   "metadata": {},
   "outputs": [
    {
     "name": "stdout",
     "output_type": "stream",
     "text": [
      "country\n",
      "Albania                    1601.056136\n",
      "Austria                    6137.076492\n",
      "Belgium                    8343.105127\n",
      "Bosnia and Herzegovina      973.533195\n",
      "Bulgaria                   2444.286648\n",
      "Croatia                    3119.236520\n",
      "Czech Republic             6876.140250\n",
      "Denmark                    9692.385245\n",
      "Finland                    6424.519071\n",
      "France                     7029.809327\n",
      "Germany                    7144.114393\n",
      "Greece                     3530.690067\n",
      "Hungary                    5263.673816\n",
      "Iceland                    7267.688428\n",
      "Ireland                    5210.280328\n",
      "Italy                      4931.404155\n",
      "Montenegro                 2647.585601\n",
      "Netherlands                8941.571858\n",
      "Norway                    10095.421720\n",
      "Poland                     4029.329699\n",
      "Portugal                   3068.319867\n",
      "Romania                    3144.613186\n",
      "Serbia                     3581.459448\n",
      "Slovak Republic            5074.659104\n",
      "Slovenia                   4215.041741\n",
      "Spain                      3834.034742\n",
      "Sweden                     8527.844662\n",
      "Switzerland               14734.232750\n",
      "Turkey                     1969.100980\n",
      "United Kingdom             9979.508487\n",
      "Name: gdpPercap_1952, dtype: float64\n",
      "14734.23275\n",
      "Switzerland\n"
     ]
    }
   ],
   "source": [
    "gdp1952 = data[\"gdpPercap_1952\"]\n",
    "print(gdp1952)\n",
    "print(gdp1952.max())\n",
    "print(gdp1952.idxmax())"
   ]
  },
  {
   "cell_type": "markdown",
   "metadata": {},
   "source": [
    "*   Would get the same result printing `data.loc[:,\"gdpPercap_1952\"]`\n",
    "\n",
    "*   Also get the same result printing `data.gdpPercap_1952` (since it's a column name)\n",
    "\n",
    "### Select multiple columns or rows using `DataFrame.loc` and a named slice."
   ]
  },
  {
   "cell_type": "code",
   "execution_count": 27,
   "metadata": {},
   "outputs": [
    {
     "name": "stdout",
     "output_type": "stream",
     "text": [
      "             gdpPercap_1962  gdpPercap_1967  gdpPercap_1972\n",
      "country                                                    \n",
      "Italy           8243.582340    10022.401310    12269.273780\n",
      "Montenegro      4649.593785     5907.850937     7778.414017\n",
      "Netherlands    12790.849560    15363.251360    18794.745670\n",
      "Norway         13450.401510    16361.876470    18965.055510\n",
      "Poland          5338.752143     6557.152776     8006.506993\n"
     ]
    }
   ],
   "source": [
    "print(data.loc['Italy':'Poland', 'gdpPercap_1962':'gdpPercap_1972'])"
   ]
  },
  {
   "cell_type": "markdown",
   "metadata": {},
   "source": [
    "In the above code, we discover that **slicing using `loc` is inclusive at both\n",
    "ends**, which differs from **slicing using `iloc`**, where slicing indicates\n",
    "everything up to but not including the final index. "
   ]
  },
  {
   "cell_type": "markdown",
   "metadata": {},
   "source": [
    "## Exercise 3\n",
    "* Assume we've run the code below:\n",
    "\n",
    "```python\n",
    "import pandas as pd\n",
    "df = pd.read_csv('data/gapminder_gdp_europe.csv', index_col='country')\n",
    "```\n",
    "\n",
    "Write an expression to find the:\n",
    "1. GDP per capita of Serbia in 2007.\n",
    "2. GDP per capita for all countries in 1982.\n",
    "3. GDP per capita for Denmark for all years.\n",
    "4. GDP per capita for all countries for years after 1985."
   ]
  },
  {
   "cell_type": "code",
   "execution_count": null,
   "metadata": {},
   "outputs": [],
   "source": [
    "# Exercise 3\n",
    "print(df.loc['Serbia', 'gdpPercap_2007'])\n",
    "print(df['gdpPercap_1982'])\n",
    "print(df.loc['Denmark',:])\n",
    "print(df.loc[:,'gdpPercap_1985':])"
   ]
  },
  {
   "cell_type": "markdown",
   "metadata": {},
   "source": [
    "## Batch procesing files\n",
    "### Use a `for` loop to process files given a list of their names.\n",
    "\n",
    "*   A filename is just a character string.\n",
    "*   And lists can contain character strings."
   ]
  },
  {
   "cell_type": "code",
   "execution_count": 32,
   "metadata": {},
   "outputs": [
    {
     "name": "stdout",
     "output_type": "stream",
     "text": [
      "data/gapminder_gdp_africa.csv \n",
      " gdpPercap_1952    298.846212\n",
      "gdpPercap_1957    335.997115\n",
      "gdpPercap_1962    355.203227\n",
      "gdpPercap_1967    412.977514\n",
      "gdpPercap_1972    464.099504\n",
      "gdpPercap_1977    502.319733\n",
      "gdpPercap_1982    462.211415\n",
      "gdpPercap_1987    389.876185\n",
      "gdpPercap_1992    410.896824\n",
      "gdpPercap_1997    312.188423\n",
      "gdpPercap_2002    241.165877\n",
      "gdpPercap_2007    277.551859\n",
      "dtype: float64\n",
      "data/gapminder_gdp_asia.csv \n",
      " gdpPercap_1952    331.0\n",
      "gdpPercap_1957    350.0\n",
      "gdpPercap_1962    388.0\n",
      "gdpPercap_1967    349.0\n",
      "gdpPercap_1972    357.0\n",
      "gdpPercap_1977    371.0\n",
      "gdpPercap_1982    424.0\n",
      "gdpPercap_1987    385.0\n",
      "gdpPercap_1992    347.0\n",
      "gdpPercap_1997    415.0\n",
      "gdpPercap_2002    611.0\n",
      "gdpPercap_2007    944.0\n",
      "dtype: float64\n"
     ]
    }
   ],
   "source": [
    "for filename in ['data/gapminder_gdp_africa.csv', 'data/gapminder_gdp_asia.csv']:\n",
    "    data = pd.read_csv(filename, index_col='country')\n",
    "    print(filename,'\\n', data.min())"
   ]
  },
  {
   "cell_type": "markdown",
   "metadata": {},
   "source": [
    "### Use `glob.glob` to find sets of files whose names match a pattern.\n",
    "\n",
    "*   In Unix, the term \"globbing\" means \"matching a set of files with a pattern\".\n",
    "*   The most common patterns are:\n",
    "    *   `*` meaning \"match zero or more characters\"\n",
    "    *   `?` meaning \"match exactly one character\"\n",
    "*   Python contains the `glob` library to provide pattern matching functionality\n",
    "*   The `glob` library contains a function also called `glob` to match file patterns\n",
    "*   E.g., `glob.glob('*.txt')` matches all files in the current directory \n",
    "    whose names end with `.txt`.\n",
    "*   Result is a (possibly empty) list of character strings."
   ]
  },
  {
   "cell_type": "code",
   "execution_count": 33,
   "metadata": {},
   "outputs": [
    {
     "name": "stdout",
     "output_type": "stream",
     "text": [
      "all csv files in data directory: ['data/gapminder_gdp_americas.csv', 'data/gapminder_gdp_europe.csv', 'data/gapminder_gdp_oceania.csv', 'data/gapminder_gdp_africa.csv', 'data/gapminder_gdp_asia.csv']\n"
     ]
    }
   ],
   "source": [
    "import glob\n",
    "print('all csv files in data directory:', glob.glob('data/*.csv'))"
   ]
  },
  {
   "cell_type": "code",
   "execution_count": 34,
   "metadata": {},
   "outputs": [
    {
     "name": "stdout",
     "output_type": "stream",
     "text": [
      "all PDB files: []\n"
     ]
    }
   ],
   "source": [
    "print('all PDB files:', glob.glob('*.pdb'))"
   ]
  },
  {
   "cell_type": "markdown",
   "metadata": {},
   "source": [
    "### Use `glob` and `for` to process batches of files.\n",
    "\n",
    "*   Helps a lot if the files are named and stored systematically and consistently\n",
    "    so that simple patterns will find the right data.\n",
    "* Use `pd.concat()` to join Dataframes by column names"
   ]
  },
  {
   "cell_type": "code",
   "execution_count": 35,
   "metadata": {},
   "outputs": [
    {
     "name": "stdout",
     "output_type": "stream",
     "text": [
      "                        gdpPercap_1952  gdpPercap_1957  gdpPercap_1962  \\\n",
      "country                                                                  \n",
      "Argentina                  5911.315053     6856.856212     7133.166023   \n",
      "Bolivia                    2677.326347     2127.686326     2180.972546   \n",
      "Brazil                     2108.944355     2487.365989     3336.585802   \n",
      "Canada                    11367.161120    12489.950060    13462.485550   \n",
      "Chile                      3939.978789     4315.622723     4519.094331   \n",
      "Colombia                   2144.115096     2323.805581     2492.351109   \n",
      "Costa Rica                 2627.009471     2990.010802     3460.937025   \n",
      "Cuba                       5586.538780     6092.174359     5180.755910   \n",
      "Dominican Republic         1397.717137     1544.402995     1662.137359   \n",
      "Ecuador                    3522.110717     3780.546651     4086.114078   \n",
      "El Salvador                3048.302900     3421.523218     3776.803627   \n",
      "Guatemala                  2428.237769     2617.155967     2750.364446   \n",
      "Haiti                      1840.366939     1726.887882     1796.589032   \n",
      "Honduras                   2194.926204     2220.487682     2291.156835   \n",
      "Jamaica                    2898.530881     4756.525781     5246.107524   \n",
      "Mexico                     3478.125529     4131.546641     4581.609385   \n",
      "Nicaragua                  3112.363948     3457.415947     3634.364406   \n",
      "Panama                     2480.380334     2961.800905     3536.540301   \n",
      "Paraguay                   1952.308701     2046.154706     2148.027146   \n",
      "Peru                       3758.523437     4245.256698     4957.037982   \n",
      "Puerto Rico                3081.959785     3907.156189     5108.344630   \n",
      "Trinidad and Tobago        3023.271928     4100.393400     4997.523971   \n",
      "United States             13990.482080    14847.127120    16173.145860   \n",
      "Uruguay                    5716.766744     6150.772969     5603.357717   \n",
      "Venezuela                  7689.799761     9802.466526     8422.974165   \n",
      "Albania                    1601.056136     1942.284244     2312.888958   \n",
      "Austria                    6137.076492     8842.598030    10750.721110   \n",
      "Belgium                    8343.105127     9714.960623    10991.206760   \n",
      "Bosnia and Herzegovina      973.533195     1353.989176     1709.683679   \n",
      "Bulgaria                   2444.286648     3008.670727     4254.337839   \n",
      "...                                ...             ...             ...   \n",
      "Cambodia                    368.469286      434.038336      496.913648   \n",
      "China                       400.448611      575.987001      487.674018   \n",
      "Hong Kong China            3054.421209     3629.076457     4692.648272   \n",
      "India                       546.565749      590.061996      658.347151   \n",
      "Indonesia                   749.681655      858.900271      849.289770   \n",
      "Iran                       3035.326002     3290.257643     4187.329802   \n",
      "Iraq                       4129.766056     6229.333562     8341.737815   \n",
      "Israel                     4086.522128     5385.278451     7105.630706   \n",
      "Japan                      3216.956347     4317.694365     6576.649461   \n",
      "Jordan                     1546.907807     1886.080591     2348.009158   \n",
      "Korea Dem. Rep.            1088.277758     1571.134655     1621.693598   \n",
      "Korea Rep.                 1030.592226     1487.593537     1536.344387   \n",
      "Kuwait                   108382.352900   113523.132900    95458.111760   \n",
      "Lebanon                    4834.804067     6089.786934     5714.560611   \n",
      "Malaysia                   1831.132894     1810.066992     2036.884944   \n",
      "Mongolia                    786.566857      912.662609     1056.353958   \n",
      "Myanmar                     331.000000      350.000000      388.000000   \n",
      "Nepal                       545.865723      597.936356      652.396859   \n",
      "Oman                       1828.230307     2242.746551     2924.638113   \n",
      "Pakistan                    684.597144      747.083529      803.342742   \n",
      "Philippines                1272.880995     1547.944844     1649.552153   \n",
      "Saudi Arabia               6459.554823     8157.591248    11626.419750   \n",
      "Singapore                  2315.138227     2843.104409     3674.735572   \n",
      "Sri Lanka                  1083.532030     1072.546602     1074.471960   \n",
      "Syria                      1643.485354     2117.234893     2193.037133   \n",
      "Taiwan                     1206.947913     1507.861290     1822.879028   \n",
      "Thailand                    757.797418      793.577415     1002.199172   \n",
      "Vietnam                     605.066492      676.285448      772.049160   \n",
      "West Bank and Gaza         1515.592329     1827.067742     2198.956312   \n",
      "Yemen Rep.                  781.717576      804.830455      825.623201   \n",
      "\n",
      "                        gdpPercap_1967  gdpPercap_1972  gdpPercap_1977  \\\n",
      "country                                                                  \n",
      "Argentina                  8052.953021     9443.038526    10079.026740   \n",
      "Bolivia                    2586.886053     2980.331339     3548.097832   \n",
      "Brazil                     3429.864357     4985.711467     6660.118654   \n",
      "Canada                    16076.588030    18970.570860    22090.883060   \n",
      "Chile                      5106.654313     5494.024437     4756.763836   \n",
      "Colombia                   2678.729839     3264.660041     3815.807870   \n",
      "Costa Rica                 4161.727834     5118.146939     5926.876967   \n",
      "Cuba                       5690.268015     5305.445256     6380.494966   \n",
      "Dominican Republic         1653.723003     2189.874499     2681.988900   \n",
      "Ecuador                    4579.074215     5280.994710     6679.623260   \n",
      "El Salvador                4358.595393     4520.246008     5138.922374   \n",
      "Guatemala                  3242.531147     4031.408271     4879.992748   \n",
      "Haiti                      1452.057666     1654.456946     1874.298931   \n",
      "Honduras                   2538.269358     2529.842345     3203.208066   \n",
      "Jamaica                    6124.703451     7433.889293     6650.195573   \n",
      "Mexico                     5754.733883     6809.406690     7674.929108   \n",
      "Nicaragua                  4643.393534     4688.593267     5486.371089   \n",
      "Panama                     4421.009084     5364.249663     5351.912144   \n",
      "Paraguay                   2299.376311     2523.337977     3248.373311   \n",
      "Peru                       5788.093330     5937.827283     6281.290855   \n",
      "Puerto Rico                6929.277714     9123.041742     9770.524921   \n",
      "Trinidad and Tobago        5621.368472     6619.551419     7899.554209   \n",
      "United States             19530.365570    21806.035940    24072.632130   \n",
      "Uruguay                    5444.619620     5703.408898     6504.339663   \n",
      "Venezuela                  9541.474188    10505.259660    13143.950950   \n",
      "Albania                    2760.196931     3313.422188     3533.003910   \n",
      "Austria                   12834.602400    16661.625600    19749.422300   \n",
      "Belgium                   13149.041190    16672.143560    19117.974480   \n",
      "Bosnia and Herzegovina     2172.352423     2860.169750     3528.481305   \n",
      "Bulgaria                   5577.002800     6597.494398     7612.240438   \n",
      "...                                ...             ...             ...   \n",
      "Cambodia                    523.432314      421.624026      524.972183   \n",
      "China                       612.705693      676.900092      741.237470   \n",
      "Hong Kong China            6197.962814     8315.928145    11186.141250   \n",
      "India                       700.770611      724.032527      813.337323   \n",
      "Indonesia                   762.431772     1111.107907     1382.702056   \n",
      "Iran                       5906.731805     9613.818607    11888.595080   \n",
      "Iraq                       8931.459811     9576.037596    14688.235070   \n",
      "Israel                     8393.741404    12786.932230    13306.619210   \n",
      "Japan                      9847.788607    14778.786360    16610.377010   \n",
      "Jordan                     2741.796252     2110.856309     2852.351568   \n",
      "Korea Dem. Rep.            2143.540609     3701.621503     4106.301249   \n",
      "Korea Rep.                 2029.228142     3030.876650     4657.221020   \n",
      "Kuwait                    80894.883260   109347.867000    59265.477140   \n",
      "Lebanon                    6006.983042     7486.384341     8659.696836   \n",
      "Malaysia                   2277.742396     2849.094780     3827.921571   \n",
      "Mongolia                   1226.041130     1421.741975     1647.511665   \n",
      "Myanmar                     349.000000      357.000000      371.000000   \n",
      "Nepal                       676.442225      674.788130      694.112440   \n",
      "Oman                       4720.942687    10618.038550    11848.343920   \n",
      "Pakistan                    942.408259     1049.938981     1175.921193   \n",
      "Philippines                1814.127430     1989.374070     2373.204287   \n",
      "Saudi Arabia              16903.048860    24837.428650    34167.762600   \n",
      "Singapore                  4977.418540     8597.756202    11210.089480   \n",
      "Sri Lanka                  1135.514326     1213.395530     1348.775651   \n",
      "Syria                      1881.923632     2571.423014     3195.484582   \n",
      "Taiwan                     2643.858681     4062.523897     5596.519826   \n",
      "Thailand                   1295.460660     1524.358936     1961.224635   \n",
      "Vietnam                     637.123289      699.501644      713.537120   \n",
      "West Bank and Gaza         2649.715007     3133.409277     3682.831494   \n",
      "Yemen Rep.                  862.442146     1265.047031     1829.765177   \n",
      "\n",
      "                        gdpPercap_1982  gdpPercap_1987  gdpPercap_1992  \\\n",
      "country                                                                  \n",
      "Argentina                  8997.897412     9139.671389     9308.418710   \n",
      "Bolivia                    3156.510452     2753.691490     2961.699694   \n",
      "Brazil                     7030.835878     7807.095818     6950.283021   \n",
      "Canada                    22898.792140    26626.515030    26342.884260   \n",
      "Chile                      5095.665738     5547.063754     7596.125964   \n",
      "Colombia                   4397.575659     4903.219100     5444.648617   \n",
      "Costa Rica                 5262.734751     5629.915318     6160.416317   \n",
      "Cuba                       7316.918107     7532.924763     5592.843963   \n",
      "Dominican Republic         2861.092386     2899.842175     3044.214214   \n",
      "Ecuador                    7213.791267     6481.776993     7103.702595   \n",
      "El Salvador                4098.344175     4140.442097     4444.231700   \n",
      "Guatemala                  4820.494790     4246.485974     4439.450840   \n",
      "Haiti                      2011.159549     1823.015995     1456.309517   \n",
      "Honduras                   3121.760794     3023.096699     3081.694603   \n",
      "Jamaica                    6068.051350     6351.237495     7404.923685   \n",
      "Mexico                     9611.147541     8688.156003     9472.384295   \n",
      "Nicaragua                  3470.338156     2955.984375     2170.151724   \n",
      "Panama                     7009.601598     7034.779161     6618.743050   \n",
      "Paraguay                   4258.503604     3998.875695     4196.411078   \n",
      "Peru                       6434.501797     6360.943444     4446.380924   \n",
      "Puerto Rico               10330.989150    12281.341910    14641.587110   \n",
      "Trinidad and Tobago        9119.528607     7388.597823     7370.990932   \n",
      "United States             25009.559140    29884.350410    32003.932240   \n",
      "Uruguay                    6920.223051     7452.398969     8137.004775   \n",
      "Venezuela                 11152.410110     9883.584648    10733.926310   \n",
      "Albania                    3630.880722     3738.932735     2497.437901   \n",
      "Austria                   21597.083620    23687.826070    27042.018680   \n",
      "Belgium                   20979.845890    22525.563080    25575.570690   \n",
      "Bosnia and Herzegovina     4126.613157     4314.114757     2546.781445   \n",
      "Bulgaria                   8224.191647     8239.854824     6302.623438   \n",
      "...                                ...             ...             ...   \n",
      "Cambodia                    624.475478      683.895573      682.303175   \n",
      "China                       962.421380     1378.904018     1655.784158   \n",
      "Hong Kong China           14560.530510    20038.472690    24757.603010   \n",
      "India                       855.723538      976.512676     1164.406809   \n",
      "Indonesia                  1516.872988     1748.356961     2383.140898   \n",
      "Iran                       7608.334602     6642.881371     7235.653188   \n",
      "Iraq                      14517.907110    11643.572680     3745.640687   \n",
      "Israel                    15367.029200    17122.479860    18051.522540   \n",
      "Japan                     19384.105710    22375.941890    26824.895110   \n",
      "Jordan                     4161.415959     4448.679912     3431.593647   \n",
      "Korea Dem. Rep.            4106.525293     4106.492315     3726.063507   \n",
      "Korea Rep.                 5622.942464     8533.088805    12104.278720   \n",
      "Kuwait                    31354.035730    28118.429980    34932.919590   \n",
      "Lebanon                    7640.519521     5377.091329     6890.806854   \n",
      "Malaysia                   4920.355951     5249.802653     7277.912802   \n",
      "Mongolia                   2000.603139     2338.008304     1785.402016   \n",
      "Myanmar                     424.000000      385.000000      347.000000   \n",
      "Nepal                       718.373095      775.632450      897.740360   \n",
      "Oman                      12954.791010    18115.223130    18616.706910   \n",
      "Pakistan                   1443.429832     1704.686583     1971.829464   \n",
      "Philippines                2603.273765     2189.634995     2279.324017   \n",
      "Saudi Arabia              33693.175250    21198.261360    24841.617770   \n",
      "Singapore                 15169.161120    18861.530810    24769.891200   \n",
      "Sri Lanka                  1648.079789     1876.766827     2153.739222   \n",
      "Syria                      3761.837715     3116.774285     3340.542768   \n",
      "Taiwan                     7426.354774    11054.561750    15215.657900   \n",
      "Thailand                   2393.219781     2982.653773     4616.896545   \n",
      "Vietnam                     707.235786      820.799445      989.023149   \n",
      "West Bank and Gaza         4336.032082     5107.197384     6017.654756   \n",
      "Yemen Rep.                 1977.557010     1971.741538     1879.496673   \n",
      "\n",
      "                        gdpPercap_1997  gdpPercap_2002  gdpPercap_2007  \n",
      "country                                                                 \n",
      "Argentina                 10967.281950     8797.640716    12779.379640  \n",
      "Bolivia                    3326.143191     3413.262690     3822.137084  \n",
      "Brazil                     7957.980824     8131.212843     9065.800825  \n",
      "Canada                    28954.925890    33328.965070    36319.235010  \n",
      "Chile                     10118.053180    10778.783850    13171.638850  \n",
      "Colombia                   6117.361746     5755.259962     7006.580419  \n",
      "Costa Rica                 6677.045314     7723.447195     9645.061420  \n",
      "Cuba                       5431.990415     6340.646683     8948.102923  \n",
      "Dominican Republic         3614.101285     4563.808154     6025.374752  \n",
      "Ecuador                    7429.455877     5773.044512     6873.262326  \n",
      "El Salvador                5154.825496     5351.568666     5728.353514  \n",
      "Guatemala                  4684.313807     4858.347495     5186.050003  \n",
      "Haiti                      1341.726931     1270.364932     1201.637154  \n",
      "Honduras                   3160.454906     3099.728660     3548.330846  \n",
      "Jamaica                    7121.924704     6994.774861     7320.880262  \n",
      "Mexico                     9767.297530    10742.440530    11977.574960  \n",
      "Nicaragua                  2253.023004     2474.548819     2749.320965  \n",
      "Panama                     7113.692252     7356.031934     9809.185636  \n",
      "Paraguay                   4247.400261     3783.674243     4172.838464  \n",
      "Peru                       5838.347657     5909.020073     7408.905561  \n",
      "Puerto Rico               16999.433300    18855.606180    19328.709010  \n",
      "Trinidad and Tobago        8792.573126    11460.600230    18008.509240  \n",
      "United States             35767.433030    39097.099550    42951.653090  \n",
      "Uruguay                    9230.240708     7727.002004    10611.462990  \n",
      "Venezuela                 10165.495180     8605.047831    11415.805690  \n",
      "Albania                    3193.054604     4604.211737     5937.029526  \n",
      "Austria                   29095.920660    32417.607690    36126.492700  \n",
      "Belgium                   27561.196630    30485.883750    33692.605080  \n",
      "Bosnia and Herzegovina     4766.355904     6018.975239     7446.298803  \n",
      "Bulgaria                   5970.388760     7696.777725    10680.792820  \n",
      "...                                ...             ...             ...  \n",
      "Cambodia                    734.285170      896.226015     1713.778686  \n",
      "China                      2289.234136     3119.280896     4959.114854  \n",
      "Hong Kong China           28377.632190    30209.015160    39724.978670  \n",
      "India                      1458.817442     1746.769454     2452.210407  \n",
      "Indonesia                  3119.335603     2873.912870     3540.651564  \n",
      "Iran                       8263.590301     9240.761975    11605.714490  \n",
      "Iraq                       3076.239795     4390.717312     4471.061906  \n",
      "Israel                    20896.609240    21905.595140    25523.277100  \n",
      "Japan                     28816.584990    28604.591900    31656.068060  \n",
      "Jordan                     3645.379572     3844.917194     4519.461171  \n",
      "Korea Dem. Rep.            1690.756814     1646.758151     1593.065480  \n",
      "Korea Rep.                15993.527960    19233.988180    23348.139730  \n",
      "Kuwait                    40300.619960    35110.105660    47306.989780  \n",
      "Lebanon                    8754.963850     9313.938830    10461.058680  \n",
      "Malaysia                  10132.909640    10206.977940    12451.655800  \n",
      "Mongolia                   1902.252100     2140.739323     3095.772271  \n",
      "Myanmar                     415.000000      611.000000      944.000000  \n",
      "Nepal                      1010.892138     1057.206311     1091.359778  \n",
      "Oman                      19702.055810    19774.836870    22316.192870  \n",
      "Pakistan                   2049.350521     2092.712441     2605.947580  \n",
      "Philippines                2536.534925     2650.921068     3190.481016  \n",
      "Saudi Arabia              20586.690190    19014.541180    21654.831940  \n",
      "Singapore                 33519.476600    36023.105400    47143.179640  \n",
      "Sri Lanka                  2664.477257     3015.378833     3970.095407  \n",
      "Syria                      4014.238972     4090.925331     4184.548089  \n",
      "Taiwan                    20206.820980    23235.423290    28718.276840  \n",
      "Thailand                   5852.625497     5913.187529     7458.396327  \n",
      "Vietnam                    1385.896769     1764.456677     2441.576404  \n",
      "West Bank and Gaza         7110.667619     4515.487575     3025.349798  \n",
      "Yemen Rep.                 2117.484526     2234.820827     2280.769906  \n",
      "\n",
      "[142 rows x 12 columns]\n"
     ]
    }
   ],
   "source": [
    "csvs = []\n",
    "for filename in glob.glob('data/gapminder_*.csv'):\n",
    "    data = pd.read_csv(filename, index_col='country')\n",
    "    csvs.append(data) \n",
    "#print(csvs)\n",
    "dataAll = pd.concat(csvs)\n",
    "print(dataAll)"
   ]
  },
  {
   "cell_type": "markdown",
   "metadata": {},
   "source": [
    "## Plotting\n",
    "### [`matplotlib`](https://matplotlib.org/) is the most widely used scientific plotting library in Python.\n",
    "\n",
    "*   Commonly use a sub-library called [`matplotlib.pyplot`](https://matplotlib.org/api/pyplot_api.html).\n",
    "*   The Jupyter Notebook will render plots inline if we ask it to using a \"magic\" command."
   ]
  },
  {
   "cell_type": "code",
   "execution_count": 36,
   "metadata": {},
   "outputs": [],
   "source": [
    "%matplotlib inline\n",
    "import matplotlib.pyplot as plt"
   ]
  },
  {
   "cell_type": "markdown",
   "metadata": {},
   "source": [
    "### Simple plots are then (fairly) simple to create."
   ]
  },
  {
   "cell_type": "code",
   "execution_count": 37,
   "metadata": {},
   "outputs": [
    {
     "data": {
      "text/plain": [
       "Text(0, 0.5, 'Position (km)')"
      ]
     },
     "execution_count": 37,
     "metadata": {},
     "output_type": "execute_result"
    },
    {
     "data": {
      "image/png": "[encoded data removed]",
      "text/plain": [
       "<Figure size 432x288 with 1 Axes>"
      ]
     },
     "metadata": {
      "needs_background": "light"
     },
     "output_type": "display_data"
    }
   ],
   "source": [
    "time = [0, 1, 2, 3]\n",
    "position = [0, 100, 200, 300]\n",
    "\n",
    "plt.plot(time, position)\n",
    "plt.xlabel('Time (hr)')\n",
    "plt.ylabel('Position (km)')"
   ]
  },
  {
   "cell_type": "markdown",
   "metadata": {},
   "source": [
    "### Plot data directly from a [`Pandas dataframe`](https://pandas.pydata.org/pandas-docs/stable/generated/pandas.DataFrame.html).\n",
    "\n",
    "*   We can also plot [Pandas dataframes](https://pandas.pydata.org/pandas-docs/stable/generated/pandas.DataFrame.html).\n",
    "*   This implicitly uses [`matplotlib.pyplot`](https://matplotlib.org/api/pyplot_api.html).\n",
    "*   Before plotting, we convert the column headings from a `string` to `integer` data type, since they represent numerical values"
   ]
  },
  {
   "cell_type": "code",
   "execution_count": 38,
   "metadata": {},
   "outputs": [
    {
     "data": {
      "text/plain": [
       "[<matplotlib.lines.Line2D at 0x11e1a4e80>]"
      ]
     },
     "execution_count": 38,
     "metadata": {},
     "output_type": "execute_result"
    },
    {
     "data": {
      "image/png": "[encoded data removed]",
      "text/plain": [
       "<Figure size 432x288 with 1 Axes>"
      ]
     },
     "metadata": {
      "needs_background": "light"
     },
     "output_type": "display_data"
    }
   ],
   "source": [
    "data = pd.read_csv('data/gapminder_gdp_oceania.csv', index_col='country')\n",
    "\n",
    "#print(data)\n",
    "# Extract year from last 4 characters of each column name\n",
    "years = data.columns.str.strip('gdpPercap_')\n",
    "# Convert year values to integers, saving results back to dataframe\n",
    "data.columns = years.astype(int)\n",
    "\n",
    "#print(data)\n",
    "#print(data.loc['Australia'])\n",
    "\n",
    "plt.plot(data.loc['Australia'])"
   ]
  },
  {
   "cell_type": "markdown",
   "metadata": {},
   "source": [
    "### Select and transform data, then plot it.\n",
    "\n",
    "*   By default, [`DataFrame.plot`](https://pandas.pydata.org/pandas-docs/stable/generated/pandas.DataFrame.plot.html#pandas.DataFrame.plot) plots with the rows as the X axis.\n",
    "*   We can transpose the data in order to plot multiple series."
   ]
  },
  {
   "cell_type": "code",
   "execution_count": 39,
   "metadata": {
    "scrolled": false
   },
   "outputs": [
    {
     "data": {
      "text/plain": [
       "Text(0.5, 1.0, 'GPD Per Capita for Oceania (1950-2007)')"
      ]
     },
     "execution_count": 39,
     "metadata": {},
     "output_type": "execute_result"
    },
    {
     "data": {
      "image/png": "[encoded data removed]",
      "text/plain": [
       "<Figure size 432x288 with 1 Axes>"
      ]
     },
     "metadata": {
      "needs_background": "light"
     },
     "output_type": "display_data"
    }
   ],
   "source": [
    "plt.plot(data.T)\n",
    "plt.ylabel('GDP per capita')\n",
    "plt.xlabel('Year')\n",
    "plt.title('GPD Per Capita for Oceania (1950-2007)')"
   ]
  },
  {
   "cell_type": "markdown",
   "metadata": {},
   "source": [
    "### Many styles of plot are available.\n",
    "\n",
    "*   For example, do a bar plot using a fancier style.\n",
    "* [Matplotlib Style Guide](https://matplotlib.org/3.1.1/gallery/style_sheets/style_sheets_reference.html)"
   ]
  },
  {
   "cell_type": "code",
   "execution_count": 40,
   "metadata": {},
   "outputs": [
    {
     "data": {
      "text/plain": [
       "Text(0, 0.5, 'GDP per capita')"
      ]
     },
     "execution_count": 40,
     "metadata": {},
     "output_type": "execute_result"
    },
    {
     "data": {
      "image/png": "[encoded data removed]",
      "text/plain": [
       "<Figure size 432x288 with 1 Axes>"
      ]
     },
     "metadata": {},
     "output_type": "display_data"
    }
   ],
   "source": [
    "plt.style.use('ggplot')\n",
    "\n",
    "plt.bar(list(data.columns), data.loc['Australia'])\n",
    "\n",
    "plt.ylabel('GDP per capita')"
   ]
  },
  {
   "cell_type": "markdown",
   "metadata": {},
   "source": [
    "## More Custom Styles\n",
    "*   The command is `plt.plot(x, y)`\n",
    "*   The color / format of markers can also be specified as an optical argument: e.g. 'b-' is a blue line, 'g--' is a green dashed line.\n",
    "\n",
    "### Get Australia data from dataframe"
   ]
  },
  {
   "cell_type": "code",
   "execution_count": 41,
   "metadata": {},
   "outputs": [
    {
     "data": {
      "text/plain": [
       "[<matplotlib.lines.Line2D at 0x11e420f28>]"
      ]
     },
     "execution_count": 41,
     "metadata": {},
     "output_type": "execute_result"
    },
    {
     "data": {
      "image/png": "[encoded data removed]",
      "text/plain": [
       "<Figure size 432x288 with 1 Axes>"
      ]
     },
     "metadata": {},
     "output_type": "display_data"
    }
   ],
   "source": [
    "years = data.columns\n",
    "gdp_australia = data.loc['Australia']\n",
    "\n",
    "plt.plot(years, gdp_australia, 'g--')"
   ]
  },
  {
   "cell_type": "markdown",
   "metadata": {},
   "source": [
    "## Plotting multiple data\n",
    "\n",
    "Often when plotting multiple datasets on the same figure it is desirable to have a legend describing the data.\n",
    "This can be done in `matplotlib` in two stages:\n",
    "* Provide a label for each dataset in the figure:\n",
    " ```python\n",
    "plt.plot(years, gdp_australia, label='Australia')\n",
    "plt.plot(years, gdp_nz, label='New Zealand')\n",
    "```\n",
    "\n",
    "### Adding a Legend\n",
    "\n",
    "* Instruct `matplotlib` to create the legend.\n",
    "```python\n",
    "plt.legend()\n",
    "```\n",
    "By default matplotlib will attempt to place the legend in a suitable position. If you would rather specify a position this can be done with the `loc=` argument, e.g to place the legend in the upper left corner of the plot, specify `loc='upper left'`"
   ]
  },
  {
   "cell_type": "code",
   "execution_count": 42,
   "metadata": {},
   "outputs": [
    {
     "data": {
      "text/plain": [
       "Text(0, 0.5, 'GDP per capita ($)')"
      ]
     },
     "execution_count": 42,
     "metadata": {},
     "output_type": "execute_result"
    },
    {
     "data": {
      "image/png": "[encoded data removed]",
      "text/plain": [
       "<Figure size 432x288 with 1 Axes>"
      ]
     },
     "metadata": {},
     "output_type": "display_data"
    }
   ],
   "source": [
    "# Select two countries' worth of data.\n",
    "gdp_australia = data.loc['Australia']\n",
    "gdp_nz = data.loc['New Zealand']\n",
    "\n",
    "# Plot with differently-colored markers.\n",
    "plt.plot(years, gdp_australia, 'b-', label='Australia')\n",
    "plt.plot(years, gdp_nz, 'g-', label='New Zealand')\n",
    "\n",
    "# Create legend.\n",
    "plt.legend(loc='upper left')\n",
    "plt.xlabel('Year')\n",
    "plt.ylabel('GDP per capita ($)')"
   ]
  },
  {
   "cell_type": "markdown",
   "metadata": {},
   "source": [
    "### Scatterplots\n",
    "\n",
    "*   Plot a scatter plot correlating the GDP of Australia and New Zealand\n",
    "*   Use either `plt.scatter` or `DataFrame.plot.scatter`"
   ]
  },
  {
   "cell_type": "code",
   "execution_count": 43,
   "metadata": {},
   "outputs": [
    {
     "data": {
      "text/plain": [
       "<matplotlib.collections.PathCollection at 0x11e563860>"
      ]
     },
     "execution_count": 43,
     "metadata": {},
     "output_type": "execute_result"
    },
    {
     "data": {
      "image/png": "[encoded data removed]",
      "text/plain": [
       "<Figure size 432x288 with 1 Axes>"
      ]
     },
     "metadata": {},
     "output_type": "display_data"
    }
   ],
   "source": [
    "plt.scatter(gdp_australia, gdp_nz)"
   ]
  },
  {
   "cell_type": "markdown",
   "metadata": {},
   "source": [
    "## Saving your plot to a file\n",
    "> \n",
    "> If you are satisfied with the plot you see you may want to save it to a file,\n",
    "> perhaps to include it in a publication. There is a function in the\n",
    "> matplotlib.pyplot module that accomplishes this:\n",
    "> [savefig](https://matplotlib.org/api/_as_gen/matplotlib.pyplot.savefig.html).\n",
    "> Calling this function, e.g. with\n",
    "> ~~~\n",
    "> plt.savefig('my_figure.png')\n",
    "> ~~~\n",
    "> \n",
    "> will save the current figure to the file `my_figure.png`. The file format\n",
    "> will automatically be deduced from the file name extension (other formats\n",
    "> are pdf, ps, eps and svg).\n",
    ">\n",
    "> Note that functions in `plt` refer to a global figure variable\n",
    "> and after a figure has been displayed to the screen (e.g. with `plt.show`) \n",
    "> matplotlib will make this  variable refer to a new empty figure.\n",
    "> Therefore, make sure you call `plt.savefig` before the plot is displayed to\n",
    "> the screen, otherwise you may find a file with an empty plot.\n",
    ">\n",
    "> When using dataframes, data is often generated and plotted to screen in one line,\n",
    "> and `plt.savefig` seems not to be a possible approach.\n",
    "> One possibility to save the figure to file is then to\n",
    ">\n",
    "> * save a reference to the current figure in a local variable (with `plt.gcf`) \n",
    "> * call the `savefig` class method from that varible."
   ]
  },
  {
   "cell_type": "code",
   "execution_count": 44,
   "metadata": {},
   "outputs": [
    {
     "data": {
      "image/png": "[encoded data removed]",
      "text/plain": [
       "<Figure size 432x288 with 1 Axes>"
      ]
     },
     "metadata": {},
     "output_type": "display_data"
    }
   ],
   "source": [
    "plt.scatter(gdp_australia, gdp_nz)\n",
    "plt.savefig('my_fig.png')"
   ]
  },
  {
   "cell_type": "markdown",
   "metadata": {},
   "source": [
    "## Data Subsets\n",
    "### Use comparisons to select data based on value.\n",
    "\n",
    "*   Comparison is applied element by element.\n",
    "*   Returns a similarly-shaped dataframe of `True` and `False`."
   ]
  },
  {
   "cell_type": "code",
   "execution_count": 29,
   "metadata": {},
   "outputs": [
    {
     "name": "stdout",
     "output_type": "stream",
     "text": [
      "Subset of data:\n",
      "              gdpPercap_1962  gdpPercap_1967  gdpPercap_1972\n",
      "country                                                    \n",
      "Italy           8243.582340    10022.401310    12269.273780\n",
      "Montenegro      4649.593785     5907.850937     7778.414017\n",
      "Netherlands    12790.849560    15363.251360    18794.745670\n",
      "Norway         13450.401510    16361.876470    18965.055510\n",
      "Poland          5338.752143     6557.152776     8006.506993\n",
      "\n",
      "Where are values large?\n",
      "              gdpPercap_1962  gdpPercap_1967  gdpPercap_1972\n",
      "country                                                    \n",
      "Italy                 False            True            True\n",
      "Montenegro            False           False           False\n",
      "Netherlands            True            True            True\n",
      "Norway                 True            True            True\n",
      "Poland                False           False           False\n"
     ]
    }
   ],
   "source": [
    "# Use a subset of data to keep output readable.\n",
    "subset = data.loc['Italy':'Poland', 'gdpPercap_1962':'gdpPercap_1972']\n",
    "print('Subset of data:\\n', subset)\n",
    "\n",
    "# Which values were greater than 10000 ?\n",
    "print('\\nWhere are values large?\\n', subset > 10000)"
   ]
  },
  {
   "cell_type": "markdown",
   "metadata": {},
   "source": [
    "### Select values or NaN using a Boolean mask.\n",
    "\n",
    "*   A frame full of Booleans is sometimes called a *mask* because of how it can be used."
   ]
  },
  {
   "cell_type": "code",
   "execution_count": 30,
   "metadata": {},
   "outputs": [
    {
     "name": "stdout",
     "output_type": "stream",
     "text": [
      "             gdpPercap_1962  gdpPercap_1967  gdpPercap_1972\n",
      "country                                                    \n",
      "Italy                   NaN     10022.40131     12269.27378\n",
      "Montenegro              NaN             NaN             NaN\n",
      "Netherlands     12790.84956     15363.25136     18794.74567\n",
      "Norway          13450.40151     16361.87647     18965.05551\n",
      "Poland                  NaN             NaN             NaN\n"
     ]
    }
   ],
   "source": [
    "mask = subset > 10000\n",
    "print(subset[mask])"
   ]
  },
  {
   "cell_type": "markdown",
   "metadata": {},
   "source": [
    "*   Get the value where the mask is true, and NaN (Not a Number) where it is false.\n",
    "*   Useful because NaNs are ignored by operations like max, min, average, etc."
   ]
  },
  {
   "cell_type": "code",
   "execution_count": 31,
   "metadata": {},
   "outputs": [
    {
     "name": "stdout",
     "output_type": "stream",
     "text": [
      "       gdpPercap_1962  gdpPercap_1967  gdpPercap_1972\n",
      "count        2.000000        3.000000        3.000000\n",
      "mean     13120.625535    13915.843047    16676.358320\n",
      "std        466.373656     3408.589070     3817.597015\n",
      "min      12790.849560    10022.401310    12269.273780\n",
      "25%      12955.737547    12692.826335    15532.009725\n",
      "50%      13120.625535    15363.251360    18794.745670\n",
      "75%      13285.513523    15862.563915    18879.900590\n",
      "max      13450.401510    16361.876470    18965.055510\n"
     ]
    }
   ],
   "source": [
    "print(subset[subset > 10000].describe())"
   ]
  },
  {
   "cell_type": "markdown",
   "metadata": {},
   "source": [
    "Workshop materials are drevied from work that is Copyright ©[Software Carpentry](http://software-carpentry.org/)."
   ]
  }
 ],
 "metadata": {
  "kernelspec": {
   "display_name": "Python 3",
   "language": "python",
   "name": "python3"
  },
  "language_info": {
   "codemirror_mode": {
    "name": "ipython",
    "version": 3
   },
   "file_extension": ".py",
   "mimetype": "text/x-python",
   "name": "python",
   "nbconvert_exporter": "python",
   "pygments_lexer": "ipython3",
   "version": "3.7.1"
  }
 },
 "nbformat": 4,
 "nbformat_minor": 2
}
