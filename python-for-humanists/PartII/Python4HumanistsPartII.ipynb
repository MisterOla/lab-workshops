{
 "cells": [
  {
   "cell_type": "markdown",
   "metadata": {},
   "source": [
    "# Python for Humanists (Part II)\n",
    "\n",
    "\n",
    "This workshop is licensed under a [Creative Commons Attribution 4.0 International License](https://creativecommons.org/licenses/by/4.0/). ![CC 4.0 License](CC4.png) \n",
    "Download data: [DATA](https://yale.box.com/s/sxo8v2eqjayritbrdfirfda2rpdu7zhy)\n",
    "\n",
    "[See Part I](https://yale.box.com/v/python-dhlab)"
   ]
  },
  {
   "cell_type": "markdown",
   "metadata": {},
   "source": [
    "## Lists\n",
    "### A list stores many values in a single structure.\n",
    "\n",
    "*   Doing calculations with a hundred variables called `name_001`, `name_002`, etc.,\n",
    "    would be at least as slow as doing them by hand.\n",
    "*   Use a *list* to store many values together.\n",
    "    *   Contained within square brackets `[...]`.\n",
    "    *   Values separated by commas `,`.\n",
    "*   Use `len` to find out how many values are in a list."
   ]
  },
  {
   "cell_type": "code",
   "execution_count": null,
   "metadata": {},
   "outputs": [],
   "source": [
    "names = ['Cathy','Doug','Monica','Jake','Peter']\n",
    "print(type(names))\n",
    "print('names:', names)\n",
    "print('length:', len(names))"
   ]
  },
  {
   "cell_type": "markdown",
   "metadata": {},
   "source": [
    "### Use an item's index to fetch it from a list.\n",
    "\n",
    "*   Just like strings."
   ]
  },
  {
   "cell_type": "code",
   "execution_count": null,
   "metadata": {},
   "outputs": [],
   "source": [
    "print('zeroth item of names:', names[0])\n",
    "print('fourth item of names:', names[4])"
   ]
  },
  {
   "cell_type": "markdown",
   "metadata": {},
   "source": [
    "### Lists' values can be replaced by assigning to them.\n",
    "\n",
    "*   Use an index expression on the left of assignment to replace a value."
   ]
  },
  {
   "cell_type": "code",
   "execution_count": null,
   "metadata": {},
   "outputs": [],
   "source": [
    "names[0] = 'Catherine'\n",
    "print('names is now:', names)"
   ]
  },
  {
   "cell_type": "markdown",
   "metadata": {},
   "source": [
    "### Appending items to a list lengthens it.\n",
    "\n",
    "*   Use `list_name.append` to add items to the end of a list."
   ]
  },
  {
   "cell_type": "code",
   "execution_count": null,
   "metadata": {},
   "outputs": [],
   "source": [
    "primes = [2, 3, 5]\n",
    "print('primes is initially:', primes)\n",
    "primes.append(7)\n",
    "primes.append(9)\n",
    "print('primes has become:', primes)"
   ]
  },
  {
   "cell_type": "markdown",
   "metadata": {},
   "source": [
    "*   `append` is a *method* of lists.\n",
    "    *   Like a function, but tied to a particular object.\n",
    "*   Use `object_name.method_name` to call methods.\n",
    "    *   Deliberately resembles the way we refer to things in a library.\n",
    "*   We will meet other methods of lists as we go along.\n",
    "    *   Use `help(list)` for a preview.\n",
    "*   `extend` is similar to `append`, but it allows you to combine two lists.  For example:"
   ]
  },
  {
   "cell_type": "code",
   "execution_count": null,
   "metadata": {},
   "outputs": [],
   "source": [
    "teen_primes = [11, 13, 17, 19]\n",
    "middle_aged_primes = [37, 41, 43, 47]\n",
    "print('primes is currently:', primes)\n",
    "primes.extend(teen_primes)\n",
    "print('primes has now become:', primes)\n",
    "primes.append(middle_aged_primes)\n",
    "print('primes has finally become:', primes)"
   ]
  },
  {
   "cell_type": "markdown",
   "metadata": {},
   "source": [
    "Note that while `extend` maintains the \"flat\" structure of the list, appending a list to a list makes the result two-dimensional.\n",
    "\n",
    "### Use `del` to remove items from a list entirely.\n",
    "\n",
    "*   `del list_name[index]` removes an item from a list and shortens the list.\n",
    "*   Not a function or a method, but a statement in the language."
   ]
  },
  {
   "cell_type": "code",
   "execution_count": null,
   "metadata": {},
   "outputs": [],
   "source": [
    "print('primes before removing last item:', primes)\n",
    "del primes[4]\n",
    "print('primes after removing last item:', primes)"
   ]
  },
  {
   "cell_type": "markdown",
   "metadata": {},
   "source": [
    "### The empty list contains no values.\n",
    "\n",
    "*   Use `[]` on its own to represent a list that doesn't contain any values.\n",
    "    *   \"The zero of lists.\"\n",
    "*   Helpful as a starting point for collecting values\n",
    "\n",
    "### Lists may contain values of different types.\n",
    "\n",
    "*   A single list may contain numbers, strings, and anything else."
   ]
  },
  {
   "cell_type": "code",
   "execution_count": null,
   "metadata": {},
   "outputs": [],
   "source": [
    "goals = []\n",
    "goals.extend([1, 'Create lists.', 2, 'Extract items from lists.', 3, 'Modify lists.'])\n",
    "print(goals)"
   ]
  },
  {
   "cell_type": "markdown",
   "metadata": {},
   "source": [
    "### Lists can be sliced\n",
    "* We can slice a list to obtain a sub-section of the list\n",
    "    * Use the index numbers separated by a colon `:` to designate which slice of the list to take"
   ]
  },
  {
   "cell_type": "code",
   "execution_count": null,
   "metadata": {},
   "outputs": [],
   "source": [
    "values = [1,3,4,7,9,13]\n",
    "print(values[0:2])\n",
    "print(values[:2])\n",
    "print(values[2:])\n",
    "print(values[:-1])"
   ]
  },
  {
   "cell_type": "markdown",
   "metadata": {},
   "source": [
    "### Indexing beyond the end of the collection is an error.\n",
    "\n",
    "*   Python reports an `IndexError` if we attempt to access a value that doesn't exist.\n",
    "    *   This is a kind of [runtime error]({{ page.root }}/05-error-messages/).\n",
    "    *   Cannot be detected as the code is parsed\n",
    "        because the index might be calculated based on data."
   ]
  },
  {
   "cell_type": "code",
   "execution_count": null,
   "metadata": {},
   "outputs": [],
   "source": [
    "print('99th element of element is:', element[99])"
   ]
  },
  {
   "cell_type": "markdown",
   "metadata": {},
   "source": [
    "## Loops\n",
    "\n",
    "### A *for loop* executes commands once for each value in a collection.\n",
    "\n",
    "*   Doing calculations on the values in a list one by one\n",
    "    is as painful as working with `pressure_001`, `pressure_002`, etc.\n",
    "*   A *for loop* tells Python to execute some statements once for each value in a list,\n",
    "    a character string,\n",
    "    or some other collection.\n",
    "*   \"for each thing in this group, do these operations\""
   ]
  },
  {
   "cell_type": "code",
   "execution_count": null,
   "metadata": {},
   "outputs": [],
   "source": [
    "print(2)\n",
    "print(3)\n",
    "print(5)"
   ]
  },
  {
   "cell_type": "markdown",
   "metadata": {},
   "source": [
    "*   This is the equivalent using a `for` loop:"
   ]
  },
  {
   "cell_type": "code",
   "execution_count": null,
   "metadata": {},
   "outputs": [],
   "source": []
  },
  {
   "cell_type": "markdown",
   "metadata": {},
   "source": [
    "### The first line of the `for` loop must end with a colon, and the body must be indented.\n",
    "\n",
    "*   The colon at the end of the first line signals the start of a *block* of statements.\n",
    "*   Python uses indentation rather than `{}` or `begin`/`end` to show *nesting*.\n",
    "    *   Any consistent indentation is legal, but almost everyone uses four spaces."
   ]
  },
  {
   "cell_type": "code",
   "execution_count": null,
   "metadata": {},
   "outputs": [],
   "source": [
    "for number in [2, 3, 5]:\n",
    "print(number)"
   ]
  },
  {
   "cell_type": "markdown",
   "metadata": {},
   "source": [
    "*   Indentation is always meaningful in Python."
   ]
  },
  {
   "cell_type": "code",
   "execution_count": null,
   "metadata": {},
   "outputs": [],
   "source": [
    "firstName=\"Jon\"\n",
    "  lastName=\"Smith\""
   ]
  },
  {
   "cell_type": "markdown",
   "metadata": {},
   "source": [
    "*   This error can be fixed by removing the extra spaces\n",
    "    at the beginning of the second line.\n",
    "\n",
    "### A `for` loop is made up of a collection, a loop variable, and a body."
   ]
  },
  {
   "cell_type": "code",
   "execution_count": null,
   "metadata": {},
   "outputs": [],
   "source": [
    "for number in [2, 3, 5]:\n",
    "    print(number)"
   ]
  },
  {
   "cell_type": "markdown",
   "metadata": {},
   "source": [
    "*   The collection, `[2, 3, 5]`, is what the loop is being run on.\n",
    "*   The body, `print(number)`, specifies what to do for each value in the collection.\n",
    "*   The loop variable, `number`, is what changes for each *iteration* of the loop.\n",
    "    *   The \"current thing\".\n",
    "\n",
    "### Loop variables can be called anything.\n",
    "\n",
    "*   As with all variables, loop variables are:\n",
    "    *   Created on demand.\n",
    "    *   Meaningless: their names can be anything at all."
   ]
  },
  {
   "cell_type": "code",
   "execution_count": null,
   "metadata": {},
   "outputs": [],
   "source": [
    "for kitten in [2, 3, 5]:\n",
    "    print(kitten)"
   ]
  },
  {
   "cell_type": "markdown",
   "metadata": {},
   "source": [
    "### The body of a loop can contain many statements.\n",
    "\n",
    "*   But no loop should be more than a few lines long.\n",
    "*   Hard for human beings to keep larger chunks of code in mind."
   ]
  },
  {
   "cell_type": "markdown",
   "metadata": {},
   "source": [
    "## Conditionals\n",
    "\n",
    "### Use `if` statements to control whether or not a block of code is executed.\n",
    "\n",
    "*   An `if` statement (more properly called a *conditional* statement)\n",
    "    controls whether some block of code is executed or not.\n",
    "*   Structure is similar to a `for` statement:\n",
    "    *   First line opens with `if` and ends with a colon\n",
    "    *   Body containing one or more statements is indented (usually by 4 spaces)"
   ]
  },
  {
   "cell_type": "code",
   "execution_count": null,
   "metadata": {},
   "outputs": [],
   "source": [
    "mass = 3.54\n",
    "\n",
    "mass = 2.07\n"
   ]
  },
  {
   "cell_type": "markdown",
   "metadata": {},
   "source": [
    "### Conditionals are often used inside loops.\n",
    "\n",
    "*   Not much point using a conditional when we know the value (as above).\n",
    "*   But useful when we have a collection to process."
   ]
  },
  {
   "cell_type": "code",
   "execution_count": null,
   "metadata": {},
   "outputs": [],
   "source": [
    "masses = [3.54, 2.07, 9.22, 1.86, 1.71]\n"
   ]
  },
  {
   "cell_type": "markdown",
   "metadata": {},
   "source": [
    "### Use `else` to execute a block of code when an `if` condition is *not* true.\n",
    "\n",
    "*   `else` can be used following an `if`.\n",
    "*   Allows us to specify an alternative to execute when the `if` *branch* isn't taken."
   ]
  },
  {
   "cell_type": "code",
   "execution_count": null,
   "metadata": {},
   "outputs": [],
   "source": [
    "masses = [3.54, 2.07, 9.22, 1.86, 1.71]\n",
    "for m in masses:\n",
    "    if m > 3.0:\n",
    "        print(m, 'is large')"
   ]
  },
  {
   "cell_type": "markdown",
   "metadata": {},
   "source": [
    "### Use `elif` to specify additional tests.\n",
    "\n",
    "*   May want to provide several alternative choices, each with its own test.\n",
    "*   Use `elif` (short for \"else if\") and a condition to specify these.\n",
    "*   Always associated with an `if`.\n",
    "*   Must come before the `else` (which is the \"catch all\")."
   ]
  },
  {
   "cell_type": "code",
   "execution_count": null,
   "metadata": {},
   "outputs": [],
   "source": [
    "masses = [3.54, 2.07, 9.22, 1.86, 1.71]\n",
    "for m in masses:\n",
    "    if m > 9.0:\n",
    "        print(m, 'is HUGE')\n",
    "    else:\n",
    "        print(m, 'is small')"
   ]
  },
  {
   "cell_type": "markdown",
   "metadata": {},
   "source": [
    "### Conditions are tested once, in order.\n",
    "\n",
    "*   Python steps through the branches of the conditional in order, testing each in turn.\n",
    "*   So ordering matters."
   ]
  },
  {
   "cell_type": "code",
   "execution_count": null,
   "metadata": {},
   "outputs": [],
   "source": [
    "grade = 85\n",
    "if grade >= 70:\n",
    "    print('grade is C')\n",
    "elif grade >= 80:\n",
    "    print('grade is B')\n",
    "elif grade >= 90:\n",
    "    print('grade is A')"
   ]
  },
  {
   "cell_type": "markdown",
   "metadata": {},
   "source": [
    "![Coin Sorting Machine](coinSort.gif)\n",
    "\n",
    "*   Does *not* automatically go back and re-evaluate if values change."
   ]
  },
  {
   "cell_type": "code",
   "execution_count": null,
   "metadata": {},
   "outputs": [],
   "source": [
    "velocity = 10.0\n",
    "if velocity > 20.0:\n",
    "    print('moving too fast')\n",
    "else:\n",
    "    print('adjusting velocity')\n",
    "    velocity = 50.0"
   ]
  },
  {
   "cell_type": "markdown",
   "metadata": {},
   "source": [
    "## Working with Data\n",
    "\n",
    "### Use `with open()` to open any single file\n",
    "\n",
    "*   `with open()` can open files to read in data or to write out data to a file\n",
    "*   If writing and the file doesn't exist, python will create it for you.\n",
    "\n",
    "#### Writing a .csv file"
   ]
  },
  {
   "cell_type": "code",
   "execution_count": null,
   "metadata": {},
   "outputs": [],
   "source": [
    "import csv\n",
    "\n",
    "primes = [2,3,5]"
   ]
  },
  {
   "cell_type": "markdown",
   "metadata": {},
   "source": [
    "#### Reading a .csv file"
   ]
  },
  {
   "cell_type": "code",
   "execution_count": null,
   "metadata": {},
   "outputs": [],
   "source": []
  },
  {
   "cell_type": "markdown",
   "metadata": {},
   "source": [
    "## pandas\n",
    "### Use the Pandas library to open tabular data.\n",
    "\n",
    "*   Pandas is a widely-used Python library for statistics, particularly on tabular data.\n",
    "*   Borrows many features from R's dataframes.\n",
    "    *   A 2-dimenstional table whose columns have names\n",
    "        and potentially have different data types.\n",
    "*   Load it with `import pandas`.\n",
    "*   Read a Comma Separate Values (CSV) data file with `pandas.read_csv`.\n",
    "    *   Argument is the name of the file to be read.\n",
    "    *   Assign result to a variable to store the data that was read."
   ]
  },
  {
   "cell_type": "code",
   "execution_count": null,
   "metadata": {},
   "outputs": [],
   "source": [
    "import pandas as pd"
   ]
  },
  {
   "cell_type": "markdown",
   "metadata": {},
   "source": [
    "*   The columns in a dataframe are the observed variables, and the rows are the observations.\n",
    "*   Pandas uses backslash `\\` to show wrapped lines when output is too wide to fit the screen.\n",
    "\n",
    "### Use `index_col` to specify that a column's values should be used as row headings.\n",
    "\n",
    "*   Row headings are numbers (0 and 1 in this case).\n",
    "*   Really want to index by country.\n",
    "*   Pass the name of the column to `read_csv` as its `index_col` parameter to do this."
   ]
  },
  {
   "cell_type": "code",
   "execution_count": null,
   "metadata": {},
   "outputs": [],
   "source": [
    "data = pd.read_csv('data/gapminder_gdp_oceania.csv')\n",
    "print(data)"
   ]
  },
  {
   "cell_type": "markdown",
   "metadata": {},
   "source": [
    "### Use `DataFrame.info` to find out more about a dataframe."
   ]
  },
  {
   "cell_type": "code",
   "execution_count": null,
   "metadata": {},
   "outputs": [],
   "source": []
  },
  {
   "cell_type": "markdown",
   "metadata": {},
   "source": [
    "*   This is a `DataFrame`\n",
    "*   Two rows named `'Australia'` and `'New Zealand'`\n",
    "*   Twelve columns, each of which has two actual 64-bit floating point values.\n",
    "    *   We will talk later about null values, which are used to represent missing observations.\n",
    "*   Uses 208 bytes of memory.\n",
    "\n",
    "### The `DataFrame.columns` variable stores information about the dataframe's columns.\n",
    "\n",
    "*   Note that this is data, *not* a method.\n",
    "    *   Like `math.pi`.\n",
    "    *   So do not use `()` to try to call it.\n",
    "*   Called a *member variable*, or just *member*."
   ]
  },
  {
   "cell_type": "code",
   "execution_count": null,
   "metadata": {},
   "outputs": [],
   "source": [
    "print()"
   ]
  },
  {
   "cell_type": "markdown",
   "metadata": {},
   "source": [
    "### Use `DataFrame.T` to transpose a dataframe.\n",
    "\n",
    "*   Sometimes want to treat columns as rows and vice versa.\n",
    "*   Transpose (written `.T`) doesn't copy the data, just changes the program's view of it.\n",
    "*   Like `columns`, it is a member variable."
   ]
  },
  {
   "cell_type": "code",
   "execution_count": null,
   "metadata": {},
   "outputs": [],
   "source": [
    "print()"
   ]
  },
  {
   "cell_type": "markdown",
   "metadata": {},
   "source": [
    "### Use `DataFrame.describe` to get summary statistics about data.\n",
    "\n",
    "DataFrame.describe() gets the summary statistics of only the columns that have numerical data. \n",
    "All other columns are ignored, unless you use the argument `include='all'`."
   ]
  },
  {
   "cell_type": "code",
   "execution_count": null,
   "metadata": {},
   "outputs": [],
   "source": [
    "print()"
   ]
  },
  {
   "cell_type": "markdown",
   "metadata": {},
   "source": [
    "*   Not particularly useful with just two records,\n",
    "    but very helpful when there are thousands.\n",
    "\n",
    "## Writing Data\n",
    "> \n",
    "> As well as the `read_csv` function for reading data from a file,\n",
    "> Pandas provides a `to_csv` function to write dataframes to files.\n",
    "> Applying what you've learned about reading from files,\n",
    "> write one of your dataframes to a file called `processed.csv`.\n",
    "> You can use `help` to get information on how to use `to_csv`.\n",
    "> > ## Solution\n",
    "> > In order to write the DataFrame `americas` to a file called `processed.csv`, execute the following command:\n",
    "> > ~~~\n",
    "> > americas.to_csv('processed.csv')\n",
    "> > ~~~\n",
    "\n",
    "### Note about Pandas DataFrames/Series\n",
    "\n",
    "A [DataFrame][pandas-dataframe] is a collection of [Series][pandas-series];\n",
    "The DataFrame is the way Pandas represents a table, and Series is the data-structure\n",
    "Pandas use to represent a column.\n",
    "\n",
    "Pandas is built on top of the [Numpy][numpy] library, which in practice means that\n",
    "most of the methods defined for Numpy Arrays apply to Pandas Series/DataFrames.\n",
    "\n",
    "What makes Pandas so attractive is the powerful interface to access individual records\n",
    "of the table, proper handling of missing values, and relational-databases operations\n",
    "between DataFrames.\n",
    "\n",
    "## Selecting values\n",
    "\n",
    "To access a value at the position `[i,j]` of a DataFrame, we have two options, depending on\n",
    "what is the meaning of `i` in use.\n",
    "Remember that a DataFrame provides a *index* as a way to identify the rows of the table;\n",
    "a row, then, has a *position* inside the table as well as a *label*, which\n",
    "uniquely identifies its *entry* in the DataFrame.\n",
    "\n",
    "### Use `DataFrame.iloc[..., ...]` to select values by their (entry) position\n",
    "\n",
    "*   Can specify location by numerical index analogously to 2D version of character selection in strings."
   ]
  },
  {
   "cell_type": "code",
   "execution_count": null,
   "metadata": {},
   "outputs": [],
   "source": [
    "data = pd.read_csv('data/gapminder_gdp_europe.csv', index_col='country')\n",
    "print()"
   ]
  },
  {
   "cell_type": "markdown",
   "metadata": {},
   "source": [
    "### Use `DataFrame.loc[..., ...]` to select values by their (entry) label.\n",
    "\n",
    "*   Can specify location by row name analogously to 2D version of dictionary keys."
   ]
  },
  {
   "cell_type": "code",
   "execution_count": null,
   "metadata": {},
   "outputs": [],
   "source": [
    "data = pd.read_csv('data/gapminder_gdp_europe.csv', index_col='country')\n",
    "print()"
   ]
  },
  {
   "cell_type": "markdown",
   "metadata": {},
   "source": [
    "### Result of slicing can be used in further operations.\n",
    "\n",
    "*   Usually don't just print a slice.\n",
    "*   All the statistical operators that work on entire dataframes\n",
    "    work the same way on slices.\n",
    "*   E.g., calculate max of a slice."
   ]
  },
  {
   "cell_type": "code",
   "execution_count": null,
   "metadata": {},
   "outputs": [],
   "source": [
    "albania = data.loc[\"Albania\"]\n",
    "print()\n",
    "print()"
   ]
  },
  {
   "cell_type": "code",
   "execution_count": null,
   "metadata": {},
   "outputs": [],
   "source": [
    "gdp1952 = data[\"gdpPercap_1952\"]\n",
    "print()\n",
    "print()"
   ]
  },
  {
   "cell_type": "markdown",
   "metadata": {},
   "source": [
    "*   Would get the same result printing `data.loc[:,\"gdpPercap_1952\"]`\n",
    "\n",
    "*   Also get the same result printing `data.gdpPercap_1952` (since it's a column name)\n",
    "\n",
    "### Select multiple columns or rows using `DataFrame.loc` and a named slice."
   ]
  },
  {
   "cell_type": "code",
   "execution_count": null,
   "metadata": {},
   "outputs": [],
   "source": [
    "print(data.loc['Italy':'Poland', 'gdpPercap_1962':'gdpPercap_1972'])"
   ]
  },
  {
   "cell_type": "markdown",
   "metadata": {},
   "source": [
    "In the above code, we discover that **slicing using `loc` is inclusive at both\n",
    "ends**, which differs from **slicing using `iloc`**, where slicing indicates\n",
    "everything up to but not including the final index. "
   ]
  },
  {
   "cell_type": "markdown",
   "metadata": {},
   "source": [
    "## Data Subsets\n",
    "### Use comparisons to select data based on value.\n",
    "\n",
    "*   Comparison is applied element by element.\n",
    "*   Returns a similarly-shaped dataframe of `True` and `False`."
   ]
  },
  {
   "cell_type": "code",
   "execution_count": null,
   "metadata": {},
   "outputs": [],
   "source": [
    "# Use a subset of data to keep output readable.\n",
    "subset = data.loc['Italy':'Poland', 'gdpPercap_1962':'gdpPercap_1972']\n",
    "print('Subset of data:\\n', subset)\n",
    "\n",
    "# Which values were greater than 10000 ?\n",
    "print('\\nWhere are values large?\\n', subset > 10000)"
   ]
  },
  {
   "cell_type": "markdown",
   "metadata": {},
   "source": [
    "### Select values or NaN using a Boolean mask.\n",
    "\n",
    "*   A frame full of Booleans is sometimes called a *mask* because of how it can be used."
   ]
  },
  {
   "cell_type": "code",
   "execution_count": null,
   "metadata": {},
   "outputs": [],
   "source": [
    "mask = subset > 10000\n",
    "print(subset[mask])"
   ]
  },
  {
   "cell_type": "markdown",
   "metadata": {},
   "source": [
    "*   Get the value where the mask is true, and NaN (Not a Number) where it is false.\n",
    "*   Useful because NaNs are ignored by operations like max, min, average, etc."
   ]
  },
  {
   "cell_type": "code",
   "execution_count": null,
   "metadata": {},
   "outputs": [],
   "source": [
    "print(subset[subset > 10000].describe())"
   ]
  },
  {
   "cell_type": "markdown",
   "metadata": {},
   "source": [
    "## Batch procesing files\n",
    "### Use a `for` loop to process files given a list of their names.\n",
    "\n",
    "*   A filename is just a character string.\n",
    "*   And lists can contain character strings."
   ]
  },
  {
   "cell_type": "code",
   "execution_count": null,
   "metadata": {},
   "outputs": [],
   "source": [
    "filenames = ['data/gapminder_gdp_africa.csv', 'data/gapminder_gdp_asia.csv']"
   ]
  },
  {
   "cell_type": "markdown",
   "metadata": {},
   "source": [
    "### Use `glob.glob` to find sets of files whose names match a pattern.\n",
    "\n",
    "*   In Unix, the term \"globbing\" means \"matching a set of files with a pattern\".\n",
    "*   The most common patterns are:\n",
    "    *   `*` meaning \"match zero or more characters\"\n",
    "    *   `?` meaning \"match exactly one character\"\n",
    "*   Python contains the `glob` library to provide pattern matching functionality\n",
    "*   The `glob` library contains a function also called `glob` to match file patterns\n",
    "*   E.g., `glob.glob('*.txt')` matches all files in the current directory \n",
    "    whose names end with `.txt`.\n",
    "*   Result is a (possibly empty) list of character strings."
   ]
  },
  {
   "cell_type": "code",
   "execution_count": null,
   "metadata": {},
   "outputs": [],
   "source": [
    "print()"
   ]
  },
  {
   "cell_type": "code",
   "execution_count": null,
   "metadata": {},
   "outputs": [],
   "source": [
    "print()"
   ]
  },
  {
   "cell_type": "markdown",
   "metadata": {},
   "source": [
    "### Use `glob` and `for` to process batches of files.\n",
    "\n",
    "*   Helps a lot if the files are named and stored systematically and consistently\n",
    "    so that simple patterns will find the right data."
   ]
  },
  {
   "cell_type": "code",
   "execution_count": null,
   "metadata": {},
   "outputs": [],
   "source": [
    "for filename in glob.glob('data/gapminder_*.csv'):\n",
    "    data = pd.read_csv(filename)\n",
    "    print(filename, data['gdpPercap_1952'].min())"
   ]
  },
  {
   "cell_type": "markdown",
   "metadata": {},
   "source": [
    "## Plotting\n",
    "### [`matplotlib`](https://matplotlib.org/) is the most widely used scientific plotting library in Python.\n",
    "\n",
    "*   Commonly use a sub-library called [`matplotlib.pyplot`](https://matplotlib.org/api/pyplot_api.html).\n",
    "*   The Jupyter Notebook will render plots inline if we ask it to using a \"magic\" command."
   ]
  },
  {
   "cell_type": "code",
   "execution_count": null,
   "metadata": {},
   "outputs": [],
   "source": []
  },
  {
   "cell_type": "markdown",
   "metadata": {},
   "source": [
    "### Simple plots are then (fairly) simple to create."
   ]
  },
  {
   "cell_type": "code",
   "execution_count": null,
   "metadata": {},
   "outputs": [],
   "source": [
    "time = [0, 1, 2, 3]\n",
    "position = [0, 100, 200, 300]"
   ]
  },
  {
   "cell_type": "markdown",
   "metadata": {},
   "source": [
    "### Plot data directly from a [`Pandas dataframe`](https://pandas.pydata.org/pandas-docs/stable/generated/pandas.DataFrame.html).\n",
    "\n",
    "*   We can also plot [Pandas dataframes](https://pandas.pydata.org/pandas-docs/stable/generated/pandas.DataFrame.html).\n",
    "*   This implicitly uses [`matplotlib.pyplot`](https://matplotlib.org/api/pyplot_api.html).\n",
    "*   Before plotting, we convert the column headings from a `string` to `integer` data type, since they represent numerical values"
   ]
  },
  {
   "cell_type": "code",
   "execution_count": null,
   "metadata": {},
   "outputs": [],
   "source": [
    "data = pd.read_csv('data/gapminder_gdp_oceania.csv', index_col='country')\n",
    "\n",
    "# Extract year from last 4 characters of each column name\n",
    "\n",
    "# Convert year values to integers, saving results back to dataframe\n"
   ]
  },
  {
   "cell_type": "markdown",
   "metadata": {},
   "source": [
    "### Select and transform data, then plot it.\n",
    "\n",
    "*   By default, [`DataFrame.plot`](https://pandas.pydata.org/pandas-docs/stable/generated/pandas.DataFrame.plot.html#pandas.DataFrame.plot) plots with the rows as the X axis.\n",
    "*   We can transpose the data in order to plot multiple series."
   ]
  },
  {
   "cell_type": "code",
   "execution_count": null,
   "metadata": {
    "scrolled": false
   },
   "outputs": [],
   "source": []
  },
  {
   "cell_type": "markdown",
   "metadata": {},
   "source": [
    "### Many styles of plot are available.\n",
    "\n",
    "*   For example, do a bar plot using a fancier style."
   ]
  },
  {
   "cell_type": "code",
   "execution_count": null,
   "metadata": {},
   "outputs": [],
   "source": []
  },
  {
   "cell_type": "markdown",
   "metadata": {},
   "source": [
    "## Data can also be plotted by calling the `matplotlib` `plot` function directly.\n",
    "*   The command is `plt.plot(x, y)`\n",
    "*   The color / format of markers can also be specified as an optical argument: e.g. 'b-' is a blue line, 'g--' is a green dashed line.\n",
    "\n",
    "## Get Australia data from dataframe"
   ]
  },
  {
   "cell_type": "code",
   "execution_count": null,
   "metadata": {},
   "outputs": [],
   "source": []
  },
  {
   "cell_type": "markdown",
   "metadata": {},
   "source": [
    "### Can plot many sets of data together."
   ]
  },
  {
   "cell_type": "code",
   "execution_count": null,
   "metadata": {},
   "outputs": [],
   "source": [
    "# Select two countries' worth of data.\n",
    "\n",
    "# Plot with differently-colored markers.\n",
    "\n",
    "\n",
    "# Create legend.\n"
   ]
  },
  {
   "cell_type": "markdown",
   "metadata": {},
   "source": [
    "> ### Adding a Legend\n",
    "> \n",
    "> Often when plotting multiple datasets on the same figure it is desirable to have \n",
    "> a legend describing the data.\n",
    ">\n",
    "> This can be done in `matplotlib` in two stages:\n",
    "> \n",
    "> * Provide a label for each dataset in the figure:\n",
    ">\n",
    "> ~~~\n",
    "> plt.plot(years, gdp_australia, label='Australia')\n",
    "> plt.plot(years, gdp_nz, label='New Zealand')\n",
    "> ~~~\n",
    ">\n",
    "> * Instruct `matplotlib` to create the legend.\n",
    ">\n",
    "> ~~~\n",
    "> plt.legend()\n",
    "> ~~~\n",
    ">\n",
    "> By default matplotlib will attempt to place the legend in a suitable position. If you\n",
    "> would rather specify a position this can be done with the `loc=` argument, e.g to place\n",
    "> the legend in the upper left corner of the plot, specify `loc='upper left'`\n",
    ">\n",
    "### Scatterplots\n",
    "*   Plot a scatter plot correlating the GDP of Australia and New Zealand\n",
    "*   Use either `plt.scatter` or `DataFrame.plot.scatter`"
   ]
  },
  {
   "cell_type": "code",
   "execution_count": null,
   "metadata": {},
   "outputs": [],
   "source": []
  },
  {
   "cell_type": "code",
   "execution_count": null,
   "metadata": {},
   "outputs": [],
   "source": []
  },
  {
   "cell_type": "markdown",
   "metadata": {},
   "source": [
    "## Saving your plot to a file\n",
    "> \n",
    "> If you are satisfied with the plot you see you may want to save it to a file,\n",
    "> perhaps to include it in a publication. There is a function in the\n",
    "> matplotlib.pyplot module that accomplishes this:\n",
    "> [savefig](https://matplotlib.org/api/_as_gen/matplotlib.pyplot.savefig.html).\n",
    "> Calling this function, e.g. with\n",
    "> ~~~\n",
    "> plt.savefig('my_figure.png')\n",
    "> ~~~\n",
    "> {: .language-python}\n",
    "> \n",
    "> will save the current figure to the file `my_figure.png`. The file format\n",
    "> will automatically be deduced from the file name extension (other formats\n",
    "> are pdf, ps, eps and svg).\n",
    ">\n",
    "> Note that functions in `plt` refer to a global figure variable\n",
    "> and after a figure has been displayed to the screen (e.g. with `plt.show`) \n",
    "> matplotlib will make this  variable refer to a new empty figure.\n",
    "> Therefore, make sure you call `plt.savefig` before the plot is displayed to\n",
    "> the screen, otherwise you may find a file with an empty plot.\n",
    ">\n",
    "> When using dataframes, data is often generated and plotted to screen in one line,\n",
    "> and `plt.savefig` seems not to be a possible approach.\n",
    "> One possibility to save the figure to file is then to\n",
    ">\n",
    "> * save a reference to the current figure in a local variable (with `plt.gcf`) \n",
    "> * call the `savefig` class method from that varible.\n",
    ">\n",
    "> ~~~\n",
    "> fig = plt.gcf() # get current figure\n",
    "> data.plot(kind='bar')\n",
    "> fig.savefig('my_figure.png')\n",
    "> ~~~\n",
    ">\n",
    "\n",
    "Workshop materials are drevied from work that is Copyright ©[Software Carpentry](http://software-carpentry.org/)."
   ]
  }
 ],
 "metadata": {
  "kernelspec": {
   "display_name": "Python 3",
   "language": "python",
   "name": "python3"
  },
  "language_info": {
   "codemirror_mode": {
    "name": "ipython",
    "version": 3
   },
   "file_extension": ".py",
   "mimetype": "text/x-python",
   "name": "python",
   "nbconvert_exporter": "python",
   "pygments_lexer": "ipython3",
   "version": "3.7.1"
  }
 },
 "nbformat": 4,
 "nbformat_minor": 2
}
